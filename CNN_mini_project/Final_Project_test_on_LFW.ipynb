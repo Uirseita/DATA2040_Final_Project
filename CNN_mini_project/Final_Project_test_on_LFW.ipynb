{
 "cells": [
  {
   "cell_type": "code",
   "execution_count": 1,
   "metadata": {},
   "outputs": [
    {
     "name": "stderr",
     "output_type": "stream",
     "text": [
      "C:\\Users\\Qingyu\\Anaconda3\\envs\\2040project\\lib\\site-packages\\h5py\\__init__.py:36: FutureWarning: Conversion of the second argument of issubdtype from `float` to `np.floating` is deprecated. In future, it will be treated as `np.float64 == np.dtype(float).type`.\n",
      "  from ._conv import register_converters as _register_converters\n"
     ]
    }
   ],
   "source": [
    "import cv2\n",
    "import sys\n",
    "import os\n",
    "import numpy as np\n",
    "import pandas as pd\n",
    "from tensorflow.keras.models import load_model\n",
    "from tensorflow.keras.models import Model\n",
    "from tensorflow.keras.models import model_from_json\n",
    "from tensorflow.keras.preprocessing import image\n",
    "import matplotlib.pyplot as plt\n",
    "%matplotlib inline"
   ]
  },
  {
   "cell_type": "code",
   "execution_count": 2,
   "metadata": {},
   "outputs": [],
   "source": [
    "FACE_DEFAULT_SHAPE = (160, 160)"
   ]
  },
  {
   "cell_type": "code",
   "execution_count": 3,
   "metadata": {},
   "outputs": [],
   "source": [
    "siamese_model = model_from_json(open(\"Model1.json\", \"r\").read())\n",
    "siamese_model.load_weights('Model1.h5')"
   ]
  },
  {
   "cell_type": "code",
   "execution_count": 4,
   "metadata": {},
   "outputs": [],
   "source": [
    "# reference to\n",
    "# https://gist.github.com/tilfin/98bbba47fdc4ac10c4069cce5fabd834\n",
    "\n",
    "class FaceCropper(object):\n",
    "    CASCADE_PATH = \"./data/haarcascades/haarcascade_frontalface_default.xml\"\n",
    "\n",
    "    def __init__(self):\n",
    "        self.face_cascade = cv2.CascadeClassifier(self.CASCADE_PATH)\n",
    "\n",
    "    def generate(self, image_path):\n",
    "        img = cv2.imread(image_path)\n",
    "        if (img is None):\n",
    "            print(\"Can't open image file\")\n",
    "            return False\n",
    "\n",
    "        faces = self.face_cascade.detectMultiScale(img, 1.1, 3, minSize=(100, 100))\n",
    "        if len(faces) == 0:\n",
    "#             print('Failed to detect face')\n",
    "            # return resized original image\n",
    "            return cv2.resize(img, FACE_DEFAULT_SHAPE).astype(float)\n",
    "        \n",
    "        max_size = 0\n",
    "        max_index = 0\n",
    "        for i, (x, y, w, h) in enumerate(faces):\n",
    "            if w * h > max_size:\n",
    "                max_size = w * h\n",
    "                max_index = i\n",
    "        (x,y,w,h) = faces[i]\n",
    "        r = max(w, h) / 2\n",
    "        centerx = x + w / 2\n",
    "        centery = y + h / 2\n",
    "        nx = int(centerx - r)\n",
    "        ny = int(centery - r)\n",
    "        nr = int(r * 2)\n",
    "        \n",
    "        faceimg = img[ny:ny+nr, nx:nx+nr]\n",
    "        lastimg = cv2.resize(faceimg, FACE_DEFAULT_SHAPE)\n",
    "        return lastimg.astype(float)/255.0"
   ]
  },
  {
   "cell_type": "code",
   "execution_count": 5,
   "metadata": {},
   "outputs": [],
   "source": [
    "def preprocess_face(face):\n",
    "    face = np.expand_dims(face, axis=0)\n",
    "#     face = preprocess_input(face)\n",
    "    return face"
   ]
  },
  {
   "cell_type": "code",
   "execution_count": 6,
   "metadata": {},
   "outputs": [],
   "source": [
    "def l2_normalize(x):\n",
    "    return x / np.sqrt(np.sum(np.multiply(x, x)))\n",
    "\n",
    "def findCosineSimilarity(source_representation, test_representation):\n",
    "    a = np.matmul(np.transpose(source_representation), test_representation)\n",
    "    b = np.sum(np.multiply(source_representation, source_representation))\n",
    "    c = np.sum(np.multiply(test_representation, test_representation))\n",
    "    return 1 - (a / (np.sqrt(b) * np.sqrt(c)))\n",
    "\n",
    "def findEuclideanDistance(source_representation, test_representation):\n",
    "    euclidean_distance = source_representation - test_representation\n",
    "    euclidean_distance = np.sum(np.multiply(euclidean_distance, euclidean_distance))\n",
    "    euclidean_distance = np.sqrt(euclidean_distance)\n",
    "    return euclidean_distance"
   ]
  },
  {
   "cell_type": "code",
   "execution_count": 7,
   "metadata": {},
   "outputs": [],
   "source": [
    "# reference to\n",
    "# https://github.com/serengil/tensorflow-101/blob/master/python/facenet.ipynb\n",
    "\n",
    "metric = \"euclidean\" #euclidean or cosine\n",
    "PATH = './data/lfw/lfw-deepfunneled/'\n",
    "\n",
    "def is_same_person(model, img1, img2, metric, threshold):  \n",
    "    # crop face\n",
    "    detecter = FaceCropper()\n",
    "    face1 = preprocess_face(detecter.generate(PATH+img1))\n",
    "    face2 = preprocess_face(detecter.generate(PATH+img2))\n",
    "    \n",
    "    # if either of the images cannot crop a face\n",
    "    # return False\n",
    "    if isinstance(face1, bool) or isinstance(face2, bool):\n",
    "        return False\n",
    "    else:\n",
    "        # produce 128-dimensional representation\n",
    "        \n",
    "        \n",
    "        img1_representation = model.predict([face1, face1, face1])[0,:128]\n",
    "        img2_representation = model.predict([face2, face2, face2])[0,:128]\n",
    "\n",
    "        if metric == \"euclidean\":\n",
    "            img1_representation = l2_normalize(img1_representation)\n",
    "            img2_representation = l2_normalize(img2_representation)\n",
    "            euclidean_distance = findEuclideanDistance(img1_representation, img2_representation)\n",
    "            return euclidean_distance < threshold\n",
    "\n",
    "        elif metric == \"cosine\":\n",
    "            cosine_similarity = findCosineSimilarity(img1_representation, img2_representation)\n",
    "            return cosine_similarity < threshold"
   ]
  },
  {
   "cell_type": "code",
   "execution_count": 8,
   "metadata": {},
   "outputs": [],
   "source": [
    "my_cols = ['A', 'B', 'C', 'D']\n",
    "pairs = pd.read_csv(PATH + 'pairs.txt', sep='\\t', names=my_cols, skiprows=1)\n",
    "\n",
    "def is_match_pair(pair):\n",
    "    return np.isnan(pair[3])\n",
    "\n",
    "def eval_lfw(model, pairs, metric, threshold):\n",
    "    nrows = pairs.shape[0]\n",
    "    true_positive = 0\n",
    "    true_negative = 0\n",
    "    false_positive = 0\n",
    "    false_negative = 0\n",
    "    for i, pair in pairs.iterrows():\n",
    "        if is_match_pair(pair):\n",
    "            img1 = pair[0]+'\\\\'+pair[0]+'_'+format(pair[1], '04d')+'.jpg'\n",
    "            img2 = pair[0]+'\\\\'+pair[0]+'_'+format(int(pair[2]), '04d')+'.jpg'\n",
    "            if is_same_person(model, img1, img2, metric, threshold):\n",
    "                true_positive += 1\n",
    "            else:\n",
    "                false_negative += 1\n",
    "                pass\n",
    "        else:\n",
    "            img1 = pair[0]+'\\\\'+pair[0]+'_'+format(pair[1], '04d')+'.jpg'\n",
    "            img2 = pair[2]+'\\\\'+pair[2]+'_'+format(int(pair[3]), '04d')+'.jpg'\n",
    "            if not is_same_person(model, img1, img2, metric, threshold):\n",
    "                true_negative += 1\n",
    "            else:\n",
    "                false_positive += 1\n",
    "                pass\n",
    "    true_positive_rate = true_positive / nrows\n",
    "    true_negative_rate = true_negative / nrows\n",
    "    false_positive_rate = false_positive / nrows\n",
    "    false_negative_rate = false_negative / nrows\n",
    "    return true_positive_rate, true_negative_rate, false_positive_rate, false_negative_rate"
   ]
  },
  {
   "cell_type": "code",
   "execution_count": 9,
   "metadata": {},
   "outputs": [],
   "source": [
    "def find_best_threshold(threshold_list, metric, sample_num=100):\n",
    "    accuracy_list = []\n",
    "    detection_rate_list = []\n",
    "    false_alarm_rate_list = []\n",
    "    pair_samples = pairs.sample(sample_num, random_state=0)\n",
    "    best_accuracy = 0\n",
    "    best_threshold = 0\n",
    "    \n",
    "    for threshold in threshold_list:\n",
    "        a, b, c, d = eval_lfw(siamese_model, pair_samples, metric, threshold)\n",
    "        accuracy = a + b\n",
    "        detection_rate = a / (a + d)\n",
    "        false_alarm_rate = c / (c + b)\n",
    "        if accuracy > best_accuracy:\n",
    "            best_accuracy = accuracy\n",
    "            best_threshold = threshold\n",
    "        accuracy_list.append(accuracy)\n",
    "        detection_rate_list.append(detection_rate)\n",
    "        false_alarm_rate_list.append(false_alarm_rate)\n",
    "\n",
    "    print('Best threshold is', best_threshold)\n",
    "    print('Best accuracy is', best_accuracy)\n",
    "\n",
    "    fig = plt.figure(figsize=(4,6))\n",
    "    fig.add_subplot(2,1, 1)\n",
    "    plt.plot(threshold_list, accuracy_list)\n",
    "    plt.xlabel('Threshold')\n",
    "    plt.ylabel('Accuracy')\n",
    "\n",
    "    fig.add_subplot(2,1, 2)\n",
    "    plt.plot(false_alarm_rate_list, detection_rate_list)\n",
    "    plt.xlabel('FAR')\n",
    "    plt.ylabel('DR')"
   ]
  },
  {
   "cell_type": "markdown",
   "metadata": {},
   "source": [
    "## Find a best threshold for euclidean distance"
   ]
  },
  {
   "cell_type": "code",
   "execution_count": 10,
   "metadata": {},
   "outputs": [
    {
     "name": "stdout",
     "output_type": "stream",
     "text": [
      "Best threshold is 0.8500000000000001\n",
      "Best accuracy is 0.94\n",
      "Wall time: 1min 19s\n"
     ]
    },
    {
     "data": {
      "image/png": "[encoded data removed]",
      "text/plain": [
       "<Figure size 288x432 with 2 Axes>"
      ]
     },
     "metadata": {},
     "output_type": "display_data"
    }
   ],
   "source": [
    "%%time\n",
    "find_best_threshold(np.arange(0.8,1.1,0.05), 'euclidean')"
   ]
  },
  {
   "cell_type": "code",
   "execution_count": 11,
   "metadata": {},
   "outputs": [
    {
     "name": "stdout",
     "output_type": "stream",
     "text": [
      "Best threshold is 0.9400000000000002\n",
      "Best accuracy is 0.9183333333333333\n",
      "Wall time: 21min 32s\n"
     ]
    },
    {
     "data": {
      "image/png": "[encoded data removed]",
      "text/plain": [
       "<Figure size 288x432 with 2 Axes>"
      ]
     },
     "metadata": {},
     "output_type": "display_data"
    }
   ],
   "source": [
    "%%time\n",
    "find_best_threshold(np.arange(0.8,1.0,0.01), 'euclidean', sample_num=600)"
   ]
  },
  {
   "cell_type": "code",
   "execution_count": 12,
   "metadata": {},
   "outputs": [],
   "source": [
    "EUCLIDEAN_THRESHOLD = 0.94"
   ]
  },
  {
   "cell_type": "markdown",
   "metadata": {},
   "source": [
    "### The best threshold for euclidean distance is 0.94"
   ]
  },
  {
   "cell_type": "markdown",
   "metadata": {},
   "source": [
    "## Find the best threshold for cosine similarity"
   ]
  },
  {
   "cell_type": "code",
   "execution_count": 13,
   "metadata": {},
   "outputs": [
    {
     "name": "stdout",
     "output_type": "stream",
     "text": [
      "Best threshold is 0.35\n",
      "Best accuracy is 0.94\n",
      "Wall time: 2min 21s\n"
     ]
    },
    {
     "data": {
      "image/png": "[encoded data removed]",
      "text/plain": [
       "<Figure size 288x432 with 2 Axes>"
      ]
     },
     "metadata": {},
     "output_type": "display_data"
    }
   ],
   "source": [
    "%%time\n",
    "find_best_threshold(np.arange(0.2,0.8,0.05), 'cosine')"
   ]
  },
  {
   "cell_type": "code",
   "execution_count": 14,
   "metadata": {},
   "outputs": [
    {
     "name": "stdout",
     "output_type": "stream",
     "text": [
      "Best threshold is 0.4500000000000001\n",
      "Best accuracy is 0.9166666666666667\n",
      "Wall time: 21min 35s\n"
     ]
    },
    {
     "data": {
      "image/png": "[encoded data removed]",
      "text/plain": [
       "<Figure size 288x432 with 2 Axes>"
      ]
     },
     "metadata": {},
     "output_type": "display_data"
    }
   ],
   "source": [
    "%%time\n",
    "find_best_threshold(np.arange(0.3,0.5,0.01), 'cosine', sample_num=600)"
   ]
  },
  {
   "cell_type": "code",
   "execution_count": 15,
   "metadata": {},
   "outputs": [],
   "source": [
    "COSINE_THRESHOLD = 0.45"
   ]
  },
  {
   "cell_type": "markdown",
   "metadata": {},
   "source": [
    "### The best threshold for cosine similarity is 0.45"
   ]
  },
  {
   "cell_type": "markdown",
   "metadata": {},
   "source": [
    "## Test on 6000 pairs of LFW dataset"
   ]
  },
  {
   "cell_type": "markdown",
   "metadata": {},
   "source": [
    "### Euclidean distance can achive slightly higher accuracy"
   ]
  },
  {
   "cell_type": "code",
   "execution_count": 17,
   "metadata": {},
   "outputs": [
    {
     "name": "stdout",
     "output_type": "stream",
     "text": [
      "Wall time: 10min 54s\n"
     ]
    }
   ],
   "source": [
    "%%time\n",
    "a, b, c, d = eval_lfw(siamese_model, pairs, 'euclidean', EUCLIDEAN_THRESHOLD)\n",
    "accuracy = (a + b)/(a + b + c + d)"
   ]
  },
  {
   "cell_type": "code",
   "execution_count": 18,
   "metadata": {},
   "outputs": [
    {
     "data": {
      "text/plain": [
       "0.9028333333333334"
      ]
     },
     "execution_count": 18,
     "metadata": {},
     "output_type": "execute_result"
    }
   ],
   "source": [
    "accuracy"
   ]
  },
  {
   "cell_type": "code",
   "execution_count": null,
   "metadata": {},
   "outputs": [],
   "source": []
  }
 ],
 "metadata": {
  "kernelspec": {
   "display_name": "Python [conda env:2040project]",
   "language": "python",
   "name": "conda-env-2040project-py"
  },
  "language_info": {
   "codemirror_mode": {
    "name": "ipython",
    "version": 3
   },
   "file_extension": ".py",
   "mimetype": "text/x-python",
   "name": "python",
   "nbconvert_exporter": "python",
   "pygments_lexer": "ipython3",
   "version": "3.5.5"
  }
 },
 "nbformat": 4,
 "nbformat_minor": 2
}
