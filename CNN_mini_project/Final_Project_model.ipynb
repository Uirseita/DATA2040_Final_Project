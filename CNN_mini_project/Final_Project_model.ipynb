{
 "cells": [
  {
   "cell_type": "code",
   "execution_count": 1,
   "metadata": {},
   "outputs": [
    {
     "name": "stderr",
     "output_type": "stream",
     "text": [
      "C:\\Users\\Qingyu\\Anaconda3\\envs\\2040project\\lib\\site-packages\\h5py\\__init__.py:36: FutureWarning: Conversion of the second argument of issubdtype from `float` to `np.floating` is deprecated. In future, it will be treated as `np.float64 == np.dtype(float).type`.\n",
      "  from ._conv import register_converters as _register_converters\n"
     ]
    }
   ],
   "source": [
    "import cv2\n",
    "import sys\n",
    "import os\n",
    "import numpy as np\n",
    "import pandas as pd\n",
    "from tensorflow.keras.models import Model\n",
    "from tensorflow.keras.utils import Sequence\n",
    "from tensorflow.keras.models import Sequential\n",
    "from tensorflow.keras.models import load_model\n",
    "from tensorflow.keras.models import model_from_json\n",
    "from tensorflow.keras.layers import Input, Dense, LeakyReLU, Concatenate, Lambda, Activation, BatchNormalization, Dropout\n",
    "from tensorflow.keras import backend as K\n",
    "from tensorflow.keras.optimizers import Adam\n",
    "from tensorflow.keras.callbacks import ModelCheckpoint\n",
    "from tensorflow.keras.preprocessing import image\n",
    "import matplotlib.pyplot as plt\n",
    "%matplotlib inline"
   ]
  },
  {
   "cell_type": "code",
   "execution_count": 2,
   "metadata": {},
   "outputs": [],
   "source": [
    "from tensorflow.keras.models import model_from_json\n",
    " \n",
    "#facenet model structure: https://github.com/serengil/tensorflow-101/blob/master/model/facenet_model.json\n",
    "model = model_from_json(open(\"facenet_model.json\", \"r\").read())\n",
    " \n",
    "# #pre-trained weights https://drive.google.com/file/d/1971Xk5RwedbudGgTIrGAL4F7Aifu7id1/view?usp=sharing\n",
    "model.load_weights('facenet_weights.h5')"
   ]
  },
  {
   "cell_type": "markdown",
   "metadata": {},
   "source": [
    "## Data preprocessing"
   ]
  },
  {
   "cell_type": "code",
   "execution_count": 3,
   "metadata": {},
   "outputs": [],
   "source": [
    "def get_faces_df(PATH):\n",
    "    ''' Returns 3 data frames - for train\\validation\\testing '''\n",
    "    \n",
    "    celeb_data = pd.read_csv(PATH + 'identity_CelebA.txt', sep=\" \", header=None)\n",
    "    celeb_data.columns = [\"image\", \"label\"]\n",
    "\n",
    "    # 0 - train, 1 - validation, 2 - test\n",
    "    train_val_test = pd.read_csv(PATH+'list_eval_partition.csv', usecols=['partition']).values[:, 0]\n",
    "\n",
    "    df_train = celeb_data.iloc[train_val_test == 0]\n",
    "    df_valid = celeb_data.iloc[train_val_test == 1]\n",
    "    df_test = celeb_data.iloc[train_val_test == 2]\n",
    "\n",
    "    print('Train images:', len(df_train))\n",
    "    print('Validation images:', len(df_valid))\n",
    "    print('Test images:', len(df_test))\n",
    "    \n",
    "    return df_train, df_valid, df_test, train_val_test"
   ]
  },
  {
   "cell_type": "code",
   "execution_count": 4,
   "metadata": {},
   "outputs": [
    {
     "name": "stdout",
     "output_type": "stream",
     "text": [
      "Train images: 162770\n",
      "Validation images: 19867\n",
      "Test images: 19962\n"
     ]
    }
   ],
   "source": [
    "BATCH_SIZE = 2\n",
    "FACE_DEFAULT_SHAPE = (160, 160)\n",
    "\n",
    "# Path to celeb dataset\n",
    "PATH = './data/img_align_celeba/'\n",
    "\n",
    "df_train, df_valid, df_test, _ = get_faces_df(PATH)"
   ]
  },
  {
   "cell_type": "markdown",
   "metadata": {},
   "source": [
    "# Change the architecture"
   ]
  },
  {
   "cell_type": "markdown",
   "metadata": {},
   "source": [
    "## Add a dense layer with 512 neurons to the model, and LeakyReLU activation with alpha=0.1 before the dense layer with 128 neurons and the l2 normalization layer"
   ]
  },
  {
   "cell_type": "markdown",
   "metadata": {},
   "source": [
    "### Set the convolutional part to non-trainable"
   ]
  },
  {
   "cell_type": "code",
   "execution_count": 5,
   "metadata": {},
   "outputs": [],
   "source": [
    "base_model = Model(inputs=model.input, outputs=model.layers[-3].output)\n",
    "\n",
    "for l in base_model.layers:\n",
    "    l.trainable = False\n",
    "\n",
    "base_model.compile(optimizer='adam', loss='cosine_proximity')"
   ]
  },
  {
   "cell_type": "code",
   "execution_count": 6,
   "metadata": {},
   "outputs": [],
   "source": [
    "def embedder(conv_feat_size):\n",
    "    '''\n",
    "    Takes the output of the conv feature extractor and yields the embeddings\n",
    "    '''\n",
    "    input = Input((conv_feat_size,), name = 'input')\n",
    "    normalize = Lambda(lambda x: K.l2_normalize(x, axis=-1), name='normalize')\n",
    "    x = Dense(512)(input)\n",
    "    x = LeakyReLU(alpha=0.1)(x)\n",
    "    x = Dense(128)(x)\n",
    "    x = normalize(x)\n",
    "    model = Model(input, x)\n",
    "    return model\n",
    "    \n",
    "def get_siamese_model(base_model):\n",
    "    \n",
    "    inp_shape = K.int_shape(base_model.input)[1:]\n",
    "    conv_feat_size = K.int_shape(base_model.output)[-1]\n",
    "    \n",
    "    input_a = Input( inp_shape,  name='anchor')\n",
    "    input_p = Input( inp_shape,  name='positive')\n",
    "    input_n = Input( inp_shape,  name='negative')\n",
    "    emb_model = embedder(conv_feat_size)\n",
    "    output_a = emb_model(base_model(input_a))\n",
    "    output_p = emb_model(base_model(input_p))\n",
    "    output_n = emb_model(base_model(input_n))\n",
    "    \n",
    "    merged_vector = Concatenate(axis=-1)([output_a, output_p, output_n])\n",
    "    model = Model(inputs=[input_a, input_p, input_n],\n",
    "                  outputs=merged_vector)\n",
    "\n",
    "    return model\n",
    "\n",
    "siamese_model = get_siamese_model(base_model)"
   ]
  },
  {
   "cell_type": "code",
   "execution_count": 7,
   "metadata": {},
   "outputs": [],
   "source": [
    "def triplet_loss(y_true, y_pred, cosine = True, alpha = 0.2):\n",
    "    embedding_size = K.int_shape(y_pred)[-1] // 3\n",
    "    ind = int(embedding_size * 2)\n",
    "    a_pred = y_pred[:, :embedding_size]\n",
    "    p_pred = y_pred[:, embedding_size:ind]\n",
    "    n_pred = y_pred[:, ind:]\n",
    "    if cosine:\n",
    "        positive_distance = 1 - K.sum((a_pred * p_pred), axis=-1)\n",
    "        negative_distance = 1 - K.sum((a_pred * n_pred), axis=-1)\n",
    "    else:\n",
    "        positive_distance = K.sqrt(K.sum(K.square(a_pred - p_pred), axis=-1))\n",
    "        negative_distance = K.sqrt(K.sum(K.square(a_pred - n_pred), axis=-1))\n",
    "    loss = K.maximum(0.0, positive_distance - negative_distance + alpha)\n",
    "    return loss"
   ]
  },
  {
   "cell_type": "code",
   "execution_count": 8,
   "metadata": {},
   "outputs": [],
   "source": [
    "# reference to\n",
    "# https://gist.github.com/tilfin/98bbba47fdc4ac10c4069cce5fabd834\n",
    "\n",
    "class FaceCropper(object):\n",
    "    CASCADE_PATH = \"./data/haarcascades/haarcascade_frontalface_default.xml\"\n",
    "\n",
    "    def __init__(self):\n",
    "        self.face_cascade = cv2.CascadeClassifier(self.CASCADE_PATH)\n",
    "\n",
    "    def generate(self, image_path):\n",
    "        img = cv2.imread(image_path)\n",
    "        if (img is None):\n",
    "            print(\"Can't open image file\")\n",
    "            return False\n",
    "\n",
    "        faces = self.face_cascade.detectMultiScale(img, 1.1, 3, minSize=(100, 100))\n",
    "        if len(faces) == 0:\n",
    "#             print('Failed to detect face')\n",
    "            # return resized original image\n",
    "            return cv2.resize(img, FACE_DEFAULT_SHAPE).astype(float)\n",
    "        \n",
    "        max_size = 0\n",
    "        max_index = 0\n",
    "        for i, (x, y, w, h) in enumerate(faces):\n",
    "            if w * h > max_size:\n",
    "                max_size = w * h\n",
    "                max_index = i\n",
    "        (x,y,w,h) = faces[i]\n",
    "        r = max(w, h) / 2\n",
    "        centerx = x + w / 2\n",
    "        centery = y + h / 2\n",
    "        nx = int(centerx - r)\n",
    "        ny = int(centery - r)\n",
    "        nr = int(r * 2)\n",
    "        \n",
    "        faceimg = img[ny:ny+nr, nx:nx+nr]\n",
    "        lastimg = cv2.resize(faceimg, FACE_DEFAULT_SHAPE)\n",
    "        return lastimg.astype(float)/255.0\n",
    "        "
   ]
  },
  {
   "cell_type": "code",
   "execution_count": 9,
   "metadata": {},
   "outputs": [],
   "source": [
    "detecter = FaceCropper()\n",
    "def load_cropped_face(file):\n",
    "    img = detecter.generate(PATH + 'img_align_celeba/{}'.format(file))\n",
    "    return img"
   ]
  },
  {
   "cell_type": "code",
   "execution_count": 10,
   "metadata": {},
   "outputs": [],
   "source": [
    "class TripletImageLoader(Sequence):\n",
    "    def __init__(self, df, img_shape, batchSize = 16):\n",
    "        self.files = df['image'].values\n",
    "        self.batchSize = batchSize\n",
    "        self.y = df['label'].values\n",
    "        self.N = len(self.y)\n",
    "        self.shape = img_shape\n",
    "    #gets the number of batches this generator returns\n",
    "    def __len__(self):\n",
    "        l,rem = divmod(self.N, self.batchSize)\n",
    "        return (l + (1 if rem > 0 else 0))\n",
    "    #shuffles data on epoch end\n",
    "    def on_epoch_end(self):\n",
    "        a = np.arange(len(self.y))\n",
    "        np.random.shuffle(a)\n",
    "        self.files = self.files[a]\n",
    "        self.y = self.y[a]\n",
    "    #gets a batch with index = i\n",
    "    def __getitem__(self, i):\n",
    "        start = i*self.batchSize\n",
    "        stop  = np.min([(i+1)*self.batchSize, self.N]) # clip stop index to be <= N\n",
    "        # Memory preallocation\n",
    "        ANCHOR = np.zeros( (stop-start,) + self.shape + (3,) )\n",
    "        POSITIVE = np.zeros( (stop-start,) + self.shape + (3,) )\n",
    "        NEGATIVE = np.zeros( (stop-start,) + self.shape + (3,) )\n",
    "        ancor_labels = self.y[start:stop]\n",
    "        ancor_images = self.files[start:stop]\n",
    "        pos_images = []\n",
    "        neg_images = []\n",
    "        for k, label in enumerate(ancor_labels):\n",
    "            pos_idx = np.where(self.y==label)[0]\n",
    "            neg_idx = np.where(self.y!=label)[0]\n",
    "            neg_images.append(self.files[np.random.choice(neg_idx)])\n",
    "            pos_idx_hat = pos_idx[(pos_idx<start) | (pos_idx>stop)]\n",
    "            if len(pos_idx_hat):\n",
    "                pos_images.append(self.files[np.random.choice(pos_idx_hat)])\n",
    "            else:\n",
    "                # positive examples are within the batch or just 1 example in dataset\n",
    "                pos_images.append(self.files[np.random.choice(pos_idx)])\n",
    "                \n",
    "        for k, (a, p, n) in enumerate(zip(ancor_images, pos_images, neg_images)):\n",
    "            ANCHOR[k] = load_cropped_face(a)\n",
    "            POSITIVE[k] = load_cropped_face(p)\n",
    "            NEGATIVE[k] = load_cropped_face(n)\n",
    "            \n",
    "        return [ANCHOR, POSITIVE, NEGATIVE], np.empty(k+1) # we don't need labels so we reutrn dummy label (Keras requierments)"
   ]
  },
  {
   "cell_type": "markdown",
   "metadata": {},
   "source": [
    "### Training"
   ]
  },
  {
   "cell_type": "code",
   "execution_count": 11,
   "metadata": {},
   "outputs": [
    {
     "name": "stdout",
     "output_type": "stream",
     "text": [
      "Epoch 1/5\n",
      "81384/81385 [============================>.] - ETA: 0s - loss: 0.0310\n",
      "Epoch 00001: val_loss improved from inf to 0.02991, saving model to Model1.h5\n",
      "81385/81385 [==============================] - 5299s 65ms/step - loss: 0.0310 - val_loss: 0.0299\n",
      "Epoch 2/5\n",
      "81384/81385 [============================>.] - ETA: 0s - loss: 0.0253\n",
      "Epoch 00002: val_loss did not improve from 0.02991\n",
      "81385/81385 [==============================] - 4880s 60ms/step - loss: 0.0253 - val_loss: 0.0308\n",
      "Epoch 3/5\n",
      "81384/81385 [============================>.] - ETA: 0s - loss: 0.0237\n",
      "Epoch 00003: val_loss did not improve from 0.02991\n",
      "81385/81385 [==============================] - 4881s 60ms/step - loss: 0.0237 - val_loss: 0.0317\n",
      "Epoch 4/5\n",
      "81384/81385 [============================>.] - ETA: 0s - loss: 0.0229\n",
      "Epoch 00004: val_loss improved from 0.02991 to 0.02902, saving model to Model1.h5\n",
      "81385/81385 [==============================] - 4880s 60ms/step - loss: 0.0229 - val_loss: 0.0290\n",
      "Epoch 5/5\n",
      "81384/81385 [============================>.] - ETA: 0s - loss: 0.0222\n",
      "Epoch 00005: val_loss did not improve from 0.02902\n",
      "81385/81385 [==============================] - 4848s 60ms/step - loss: 0.0222 - val_loss: 0.0302\n"
     ]
    }
   ],
   "source": [
    "train_gen = TripletImageLoader(df_train, FACE_DEFAULT_SHAPE, batchSize = BATCH_SIZE)\n",
    "valid_gen = TripletImageLoader(df_valid, FACE_DEFAULT_SHAPE, batchSize = BATCH_SIZE)\n",
    "siamese_model.compile(Adam(lr = 0.0001), loss = triplet_loss)\n",
    "\n",
    "checkpoint = ModelCheckpoint('Model1.h5', monitor='val_loss', \n",
    "                             verbose=1, save_best_only=True, save_weights_only=False)\n",
    "\n",
    "# Change workers>1 and use_multiprocessing=True if you're working on Linux\n",
    "history = siamese_model.fit_generator(train_gen, steps_per_epoch=len(train_gen), \n",
    "                    epochs=5, validation_data=valid_gen, validation_steps=len(valid_gen),\n",
    "                    workers=1, use_multiprocessing=False, callbacks=[checkpoint])\n"
   ]
  },
  {
   "cell_type": "code",
   "execution_count": 12,
   "metadata": {},
   "outputs": [
    {
     "data": {
      "image/png": "[encoded data removed]",
      "text/plain": [
       "<Figure size 432x288 with 1 Axes>"
      ]
     },
     "metadata": {},
     "output_type": "display_data"
    }
   ],
   "source": [
    "# # Plot training & validation accuracy values\n",
    "# plt.plot(history.history['acc'])\n",
    "# plt.plot(history.history['val_acc'])\n",
    "# plt.title('Model accuracy')\n",
    "# plt.ylabel('Accuracy')\n",
    "# plt.xlabel('Epoch')\n",
    "# plt.legend(['Train', 'Test'], loc='upper left')\n",
    "# plt.show()\n",
    "\n",
    "# Plot training & validation loss values\n",
    "plt.plot(history.history['loss'])\n",
    "plt.plot(history.history['val_loss'])\n",
    "plt.title('Model loss')\n",
    "plt.ylabel('Loss')\n",
    "plt.xlabel('Epoch')\n",
    "plt.legend(['Train', 'Test'], loc='upper left')\n",
    "plt.show()"
   ]
  },
  {
   "cell_type": "code",
   "execution_count": 13,
   "metadata": {},
   "outputs": [],
   "source": [
    "siamese_model_json = siamese_model.to_json()\n",
    "with open(\"Model1.json\", \"w\") as json_file:\n",
    "    json_file.write(siamese_model_json)"
   ]
  },
  {
   "cell_type": "code",
   "execution_count": 14,
   "metadata": {},
   "outputs": [],
   "source": [
    "siamese_model.save('Model1.h5')"
   ]
  },
  {
   "cell_type": "code",
   "execution_count": null,
   "metadata": {},
   "outputs": [],
   "source": []
  }
 ],
 "metadata": {
  "kernelspec": {
   "display_name": "Python [conda env:2040project]",
   "language": "python",
   "name": "conda-env-2040project-py"
  },
  "language_info": {
   "codemirror_mode": {
    "name": "ipython",
    "version": 3
   },
   "file_extension": ".py",
   "mimetype": "text/x-python",
   "name": "python",
   "nbconvert_exporter": "python",
   "pygments_lexer": "ipython3",
   "version": "3.5.5"
  }
 },
 "nbformat": 4,
 "nbformat_minor": 2
}
