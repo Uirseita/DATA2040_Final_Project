{
 "cells": [
  {
   "cell_type": "markdown",
   "metadata": {},
   "source": [
    "# Imports and Extra Data Cleaning"
   ]
  },
  {
   "cell_type": "code",
   "execution_count": 1,
   "metadata": {},
   "outputs": [],
   "source": [
    "import numpy as np\n",
    "import pandas as pd\n",
    "import matplotlib.pyplot as plt\n",
    "import seaborn as sns\n",
    "import random\n",
    "from datetime import datetime\n",
    "from datetime import timedelta\n",
    "%load_ext line_profiler\n",
    "sns.set(style=\"darkgrid\")\n",
    "import requests\n",
    "import pprint\n",
    "import re\n",
    "%matplotlib inline\n",
    "pd.set_option('display.max_columns', None)"
   ]
  },
  {
   "cell_type": "code",
   "execution_count": 2,
   "metadata": {},
   "outputs": [
    {
     "name": "stderr",
     "output_type": "stream",
     "text": [
      "C:\\Users\\2pawn\\Anaconda3\\lib\\site-packages\\IPython\\core\\interactiveshell.py:2785: DtypeWarning: Columns (49,78,85,116,121) have mixed types. Specify dtype option on import or set low_memory=False.\n",
      "  interactivity=interactivity, compiler=compiler, result=result)\n"
     ]
    },
    {
     "name": "stdout",
     "output_type": "stream",
     "text": [
      "Time cost:  0:00:06.482909\n"
     ]
    }
   ],
   "source": [
    "time1 = datetime.now()\n",
    "filename = 'cleaned_LAX.csv'\n",
    "df = pd.read_csv(\n",
    "         filename,\n",
    "         header=0, \n",
    "         parse_dates = ['FL_DATE','dep_datetime','arr_datetime']\n",
    ")\n",
    "\n",
    "time2 = datetime.now()\n",
    "print('Time cost: ', time2-time1)"
   ]
  },
  {
   "cell_type": "markdown",
   "metadata": {},
   "source": [
    "# Binary Classification\n",
    "\n",
    "Using \"DEP_DEL15\":\n",
    "- 1 means delay >= 15\n",
    "- 0 means delay < 15 (on-time / early)\n",
    "\n",
    "Goal is to predict this classification."
   ]
  },
  {
   "cell_type": "code",
   "execution_count": 3,
   "metadata": {},
   "outputs": [
    {
     "name": "stderr",
     "output_type": "stream",
     "text": [
      "C:\\Users\\2pawn\\Anaconda3\\lib\\site-packages\\h5py\\__init__.py:36: FutureWarning: Conversion of the second argument of issubdtype from `float` to `np.floating` is deprecated. In future, it will be treated as `np.float64 == np.dtype(float).type`.\n",
      "  from ._conv import register_converters as _register_converters\n"
     ]
    }
   ],
   "source": [
    "import numpy as np\n",
    "import matplotlib.pyplot as plt\n",
    "from matplotlib.colors import ListedColormap\n",
    "from sklearn.model_selection import train_test_split\n",
    "from sklearn.ensemble import RandomForestClassifier\n",
    "from sklearn.metrics import precision_recall_fscore_support, accuracy_score, confusion_matrix, classification_report\n",
    "from sklearn.metrics import matthews_corrcoef, zero_one_loss, balanced_accuracy_score, roc_auc_score\n",
    "from sklearn import preprocessing\n",
    "from tensorflow.keras.models import Sequential\n",
    "from tensorflow.keras import layers\n",
    "from tensorflow.keras.optimizers import RMSprop"
   ]
  },
  {
   "cell_type": "markdown",
   "metadata": {},
   "source": [
    "# Preprocessing"
   ]
  },
  {
   "cell_type": "code",
   "execution_count": 23,
   "metadata": {},
   "outputs": [
    {
     "name": "stderr",
     "output_type": "stream",
     "text": [
      "C:\\Users\\2pawn\\Anaconda3\\lib\\site-packages\\sklearn\\preprocessing\\data.py:323: DataConversionWarning: Data with input dtype uint8, int64, float64 were all converted to float64 by MinMaxScaler.\n",
      "  return self.partial_fit(X, y)\n"
     ]
    }
   ],
   "source": [
    "# sort by date for RNN since data was combined from all airports, not chronologically\n",
    "df = df.sort_values(by=['FL_DATE', 'CRS_DEP_TIME'])\n",
    "column_list = ['number_of_seats', 'dest_passenger_count', 'OP_CARRIER_AIRLINE_ID',\n",
    "                 'DISTANCE', 'DEP_TIME', 'temp_origin_imp', 'precip_origin_imp', 'mfr_name', 'DEP_DEL15']\n",
    "\n",
    "# change categorical to encoded\n",
    "categorical_columns = ['mfr_name']\n",
    "data = pd.get_dummies(df[column_list], columns=categorical_columns)\n",
    "\n",
    "# standardize\n",
    "scaler = preprocessing.MinMaxScaler()\n",
    "scaler.fit(data)\n",
    "data = pd.DataFrame(scaler.transform(data), index=data.index, columns=data.columns)"
   ]
  },
  {
   "cell_type": "code",
   "execution_count": 24,
   "metadata": {},
   "outputs": [
    {
     "data": {
      "text/html": [
       "<div>\n",
       "<style scoped>\n",
       "    .dataframe tbody tr th:only-of-type {\n",
       "        vertical-align: middle;\n",
       "    }\n",
       "\n",
       "    .dataframe tbody tr th {\n",
       "        vertical-align: top;\n",
       "    }\n",
       "\n",
       "    .dataframe thead th {\n",
       "        text-align: right;\n",
       "    }\n",
       "</style>\n",
       "<table border=\"1\" class=\"dataframe\">\n",
       "  <thead>\n",
       "    <tr style=\"text-align: right;\">\n",
       "      <th></th>\n",
       "      <th>number_of_seats</th>\n",
       "      <th>dest_passenger_count</th>\n",
       "      <th>OP_CARRIER_AIRLINE_ID</th>\n",
       "      <th>DISTANCE</th>\n",
       "      <th>DEP_TIME</th>\n",
       "      <th>temp_origin_imp</th>\n",
       "      <th>precip_origin_imp</th>\n",
       "      <th>DEP_DEL15</th>\n",
       "      <th>mfr_name_AIRBUS</th>\n",
       "      <th>mfr_name_BOEING</th>\n",
       "      <th>mfr_name_BOMBARDIER INC</th>\n",
       "      <th>mfr_name_EMBRAER</th>\n",
       "      <th>mfr_name_MCDONNELL DOUGLAS</th>\n",
       "    </tr>\n",
       "  </thead>\n",
       "  <tbody>\n",
       "    <tr>\n",
       "      <th>411646</th>\n",
       "      <td>0.401840</td>\n",
       "      <td>0.632948</td>\n",
       "      <td>0.231721</td>\n",
       "      <td>0.453682</td>\n",
       "      <td>0.007920</td>\n",
       "      <td>0.177419</td>\n",
       "      <td>0.0</td>\n",
       "      <td>0.0</td>\n",
       "      <td>1.0</td>\n",
       "      <td>0.0</td>\n",
       "      <td>0.0</td>\n",
       "      <td>0.0</td>\n",
       "      <td>0.0</td>\n",
       "    </tr>\n",
       "    <tr>\n",
       "      <th>233380</th>\n",
       "      <td>0.401840</td>\n",
       "      <td>0.411787</td>\n",
       "      <td>0.231721</td>\n",
       "      <td>0.891924</td>\n",
       "      <td>0.010004</td>\n",
       "      <td>0.401926</td>\n",
       "      <td>0.0</td>\n",
       "      <td>0.0</td>\n",
       "      <td>1.0</td>\n",
       "      <td>0.0</td>\n",
       "      <td>0.0</td>\n",
       "      <td>0.0</td>\n",
       "      <td>0.0</td>\n",
       "    </tr>\n",
       "    <tr>\n",
       "      <th>414293</th>\n",
       "      <td>0.420245</td>\n",
       "      <td>0.283604</td>\n",
       "      <td>0.231721</td>\n",
       "      <td>0.915677</td>\n",
       "      <td>0.010838</td>\n",
       "      <td>0.177419</td>\n",
       "      <td>0.0</td>\n",
       "      <td>0.0</td>\n",
       "      <td>1.0</td>\n",
       "      <td>0.0</td>\n",
       "      <td>0.0</td>\n",
       "      <td>0.0</td>\n",
       "      <td>0.0</td>\n",
       "    </tr>\n",
       "    <tr>\n",
       "      <th>414297</th>\n",
       "      <td>0.564417</td>\n",
       "      <td>0.366003</td>\n",
       "      <td>0.223285</td>\n",
       "      <td>0.572447</td>\n",
       "      <td>0.010838</td>\n",
       "      <td>0.177419</td>\n",
       "      <td>0.0</td>\n",
       "      <td>0.0</td>\n",
       "      <td>0.0</td>\n",
       "      <td>1.0</td>\n",
       "      <td>0.0</td>\n",
       "      <td>0.0</td>\n",
       "      <td>0.0</td>\n",
       "    </tr>\n",
       "    <tr>\n",
       "      <th>414296</th>\n",
       "      <td>0.239264</td>\n",
       "      <td>0.136893</td>\n",
       "      <td>0.231721</td>\n",
       "      <td>0.676168</td>\n",
       "      <td>0.019175</td>\n",
       "      <td>0.177419</td>\n",
       "      <td>0.0</td>\n",
       "      <td>0.0</td>\n",
       "      <td>1.0</td>\n",
       "      <td>0.0</td>\n",
       "      <td>0.0</td>\n",
       "      <td>0.0</td>\n",
       "      <td>0.0</td>\n",
       "    </tr>\n",
       "    <tr>\n",
       "      <th>414291</th>\n",
       "      <td>0.398773</td>\n",
       "      <td>0.767864</td>\n",
       "      <td>0.586614</td>\n",
       "      <td>0.655186</td>\n",
       "      <td>0.021676</td>\n",
       "      <td>0.177419</td>\n",
       "      <td>0.0</td>\n",
       "      <td>0.0</td>\n",
       "      <td>1.0</td>\n",
       "      <td>0.0</td>\n",
       "      <td>0.0</td>\n",
       "      <td>0.0</td>\n",
       "      <td>0.0</td>\n",
       "    </tr>\n",
       "    <tr>\n",
       "      <th>109206</th>\n",
       "      <td>0.420245</td>\n",
       "      <td>0.437711</td>\n",
       "      <td>0.231721</td>\n",
       "      <td>0.806017</td>\n",
       "      <td>0.021676</td>\n",
       "      <td>0.177419</td>\n",
       "      <td>0.0</td>\n",
       "      <td>0.0</td>\n",
       "      <td>1.0</td>\n",
       "      <td>0.0</td>\n",
       "      <td>0.0</td>\n",
       "      <td>0.0</td>\n",
       "      <td>0.0</td>\n",
       "    </tr>\n",
       "    <tr>\n",
       "      <th>414292</th>\n",
       "      <td>0.374233</td>\n",
       "      <td>0.767864</td>\n",
       "      <td>0.231721</td>\n",
       "      <td>0.655186</td>\n",
       "      <td>0.021259</td>\n",
       "      <td>0.177419</td>\n",
       "      <td>0.0</td>\n",
       "      <td>0.0</td>\n",
       "      <td>0.0</td>\n",
       "      <td>1.0</td>\n",
       "      <td>0.0</td>\n",
       "      <td>0.0</td>\n",
       "      <td>0.0</td>\n",
       "    </tr>\n",
       "    <tr>\n",
       "      <th>414294</th>\n",
       "      <td>0.401840</td>\n",
       "      <td>0.632948</td>\n",
       "      <td>0.231721</td>\n",
       "      <td>0.453682</td>\n",
       "      <td>0.022093</td>\n",
       "      <td>0.177419</td>\n",
       "      <td>0.0</td>\n",
       "      <td>0.0</td>\n",
       "      <td>1.0</td>\n",
       "      <td>0.0</td>\n",
       "      <td>0.0</td>\n",
       "      <td>0.0</td>\n",
       "      <td>0.0</td>\n",
       "    </tr>\n",
       "    <tr>\n",
       "      <th>414295</th>\n",
       "      <td>0.500000</td>\n",
       "      <td>0.389776</td>\n",
       "      <td>0.328459</td>\n",
       "      <td>0.510689</td>\n",
       "      <td>0.022509</td>\n",
       "      <td>0.177419</td>\n",
       "      <td>0.0</td>\n",
       "      <td>0.0</td>\n",
       "      <td>0.0</td>\n",
       "      <td>1.0</td>\n",
       "      <td>0.0</td>\n",
       "      <td>0.0</td>\n",
       "      <td>0.0</td>\n",
       "    </tr>\n",
       "  </tbody>\n",
       "</table>\n",
       "</div>"
      ],
      "text/plain": [
       "        number_of_seats  dest_passenger_count  OP_CARRIER_AIRLINE_ID  \\\n",
       "411646         0.401840              0.632948               0.231721   \n",
       "233380         0.401840              0.411787               0.231721   \n",
       "414293         0.420245              0.283604               0.231721   \n",
       "414297         0.564417              0.366003               0.223285   \n",
       "414296         0.239264              0.136893               0.231721   \n",
       "414291         0.398773              0.767864               0.586614   \n",
       "109206         0.420245              0.437711               0.231721   \n",
       "414292         0.374233              0.767864               0.231721   \n",
       "414294         0.401840              0.632948               0.231721   \n",
       "414295         0.500000              0.389776               0.328459   \n",
       "\n",
       "        DISTANCE  DEP_TIME  temp_origin_imp  precip_origin_imp  DEP_DEL15  \\\n",
       "411646  0.453682  0.007920         0.177419                0.0        0.0   \n",
       "233380  0.891924  0.010004         0.401926                0.0        0.0   \n",
       "414293  0.915677  0.010838         0.177419                0.0        0.0   \n",
       "414297  0.572447  0.010838         0.177419                0.0        0.0   \n",
       "414296  0.676168  0.019175         0.177419                0.0        0.0   \n",
       "414291  0.655186  0.021676         0.177419                0.0        0.0   \n",
       "109206  0.806017  0.021676         0.177419                0.0        0.0   \n",
       "414292  0.655186  0.021259         0.177419                0.0        0.0   \n",
       "414294  0.453682  0.022093         0.177419                0.0        0.0   \n",
       "414295  0.510689  0.022509         0.177419                0.0        0.0   \n",
       "\n",
       "        mfr_name_AIRBUS  mfr_name_BOEING  mfr_name_BOMBARDIER INC  \\\n",
       "411646              1.0              0.0                      0.0   \n",
       "233380              1.0              0.0                      0.0   \n",
       "414293              1.0              0.0                      0.0   \n",
       "414297              0.0              1.0                      0.0   \n",
       "414296              1.0              0.0                      0.0   \n",
       "414291              1.0              0.0                      0.0   \n",
       "109206              1.0              0.0                      0.0   \n",
       "414292              0.0              1.0                      0.0   \n",
       "414294              1.0              0.0                      0.0   \n",
       "414295              0.0              1.0                      0.0   \n",
       "\n",
       "        mfr_name_EMBRAER  mfr_name_MCDONNELL DOUGLAS  \n",
       "411646               0.0                         0.0  \n",
       "233380               0.0                         0.0  \n",
       "414293               0.0                         0.0  \n",
       "414297               0.0                         0.0  \n",
       "414296               0.0                         0.0  \n",
       "414291               0.0                         0.0  \n",
       "109206               0.0                         0.0  \n",
       "414292               0.0                         0.0  \n",
       "414294               0.0                         0.0  \n",
       "414295               0.0                         0.0  "
      ]
     },
     "execution_count": 24,
     "metadata": {},
     "output_type": "execute_result"
    }
   ],
   "source": [
    "data.head(10)"
   ]
  },
  {
   "cell_type": "code",
   "execution_count": 26,
   "metadata": {},
   "outputs": [
    {
     "data": {
      "text/html": [
       "<div>\n",
       "<style scoped>\n",
       "    .dataframe tbody tr th:only-of-type {\n",
       "        vertical-align: middle;\n",
       "    }\n",
       "\n",
       "    .dataframe tbody tr th {\n",
       "        vertical-align: top;\n",
       "    }\n",
       "\n",
       "    .dataframe thead th {\n",
       "        text-align: right;\n",
       "    }\n",
       "</style>\n",
       "<table border=\"1\" class=\"dataframe\">\n",
       "  <thead>\n",
       "    <tr style=\"text-align: right;\">\n",
       "      <th></th>\n",
       "      <th>DEP_DEL15</th>\n",
       "    </tr>\n",
       "  </thead>\n",
       "  <tbody>\n",
       "    <tr>\n",
       "      <th>411646</th>\n",
       "      <td>0.0</td>\n",
       "    </tr>\n",
       "    <tr>\n",
       "      <th>233380</th>\n",
       "      <td>0.0</td>\n",
       "    </tr>\n",
       "    <tr>\n",
       "      <th>414293</th>\n",
       "      <td>0.0</td>\n",
       "    </tr>\n",
       "    <tr>\n",
       "      <th>414297</th>\n",
       "      <td>0.0</td>\n",
       "    </tr>\n",
       "    <tr>\n",
       "      <th>414296</th>\n",
       "      <td>0.0</td>\n",
       "    </tr>\n",
       "    <tr>\n",
       "      <th>414291</th>\n",
       "      <td>0.0</td>\n",
       "    </tr>\n",
       "    <tr>\n",
       "      <th>109206</th>\n",
       "      <td>0.0</td>\n",
       "    </tr>\n",
       "    <tr>\n",
       "      <th>414292</th>\n",
       "      <td>0.0</td>\n",
       "    </tr>\n",
       "    <tr>\n",
       "      <th>414294</th>\n",
       "      <td>0.0</td>\n",
       "    </tr>\n",
       "    <tr>\n",
       "      <th>414295</th>\n",
       "      <td>0.0</td>\n",
       "    </tr>\n",
       "  </tbody>\n",
       "</table>\n",
       "</div>"
      ],
      "text/plain": [
       "        DEP_DEL15\n",
       "411646        0.0\n",
       "233380        0.0\n",
       "414293        0.0\n",
       "414297        0.0\n",
       "414296        0.0\n",
       "414291        0.0\n",
       "109206        0.0\n",
       "414292        0.0\n",
       "414294        0.0\n",
       "414295        0.0"
      ]
     },
     "execution_count": 26,
     "metadata": {},
     "output_type": "execute_result"
    }
   ],
   "source": [
    "data.iloc[:,[7]].head(10)"
   ]
  },
  {
   "cell_type": "code",
   "execution_count": 27,
   "metadata": {},
   "outputs": [
    {
     "name": "stdout",
     "output_type": "stream",
     "text": [
      "X_train.shape:  (338717, 5, 12)\n",
      "X_test.shape:  (84680, 5, 12)\n",
      "y_train.shape:  (338717, 5)\n",
      "y_test.shape:  (84680, 5)\n"
     ]
    }
   ],
   "source": [
    "look_back = 5 # Number of flights to look back for RNN\n",
    "\n",
    "def create_dataset(dataset, look_back):\n",
    "    # Converts dataset to sequences\n",
    "    dataX = []\n",
    "    for i in range(len(dataset)-look_back-1):\n",
    "        a = dataset[i:(i+look_back), :]\n",
    "        dataX.append(a)\n",
    "    return np.array(dataX)\n",
    "\n",
    "a = create_dataset(data.values, look_back)\n",
    "\n",
    "X_train, X_test, y_train, y_test = train_test_split(np.delete(a, [7], axis=2), a[:,:,7], test_size=0.2, random_state=123)\n",
    "print(\"X_train.shape: \", X_train.shape)\n",
    "print(\"X_test.shape: \", X_test.shape)\n",
    "print(\"y_train.shape: \", y_train.shape)\n",
    "print(\"y_test.shape: \", y_test.shape)"
   ]
  },
  {
   "cell_type": "markdown",
   "metadata": {},
   "source": [
    "## Dense Layers"
   ]
  },
  {
   "cell_type": "code",
   "execution_count": 51,
   "metadata": {},
   "outputs": [
    {
     "name": "stdout",
     "output_type": "stream",
     "text": [
      "_________________________________________________________________\n",
      "Layer (type)                 Output Shape              Param #   \n",
      "=================================================================\n",
      "flatten_4 (Flatten)          (None, 60)                0         \n",
      "_________________________________________________________________\n",
      "dense_14 (Dense)             (None, 32)                1952      \n",
      "_________________________________________________________________\n",
      "dropout (Dropout)            (None, 32)                0         \n",
      "_________________________________________________________________\n",
      "dense_15 (Dense)             (None, 32)                1056      \n",
      "_________________________________________________________________\n",
      "dropout_1 (Dropout)          (None, 32)                0         \n",
      "_________________________________________________________________\n",
      "dense_16 (Dense)             (None, 5)                 165       \n",
      "=================================================================\n",
      "Total params: 3,173\n",
      "Trainable params: 3,173\n",
      "Non-trainable params: 0\n",
      "_________________________________________________________________\n"
     ]
    }
   ],
   "source": [
    "model = Sequential()\n",
    "model.add(layers.Flatten(input_shape=(5, X_train.shape[-1])))\n",
    "model.add(layers.Dense(32, activation='relu'))\n",
    "model.add(layers.Dropout(0.2))\n",
    "model.add(layers.Dense(32, activation='relu'))\n",
    "model.add(layers.Dropout(0.2))\n",
    "model.add(layers.Dense(5, activation='softmax'))\n",
    "\n",
    "model.compile(optimizer='adam', loss='binary_crossentropy', metrics = ['accuracy'])\n",
    "model.summary()"
   ]
  },
  {
   "cell_type": "code",
   "execution_count": 52,
   "metadata": {},
   "outputs": [
    {
     "name": "stdout",
     "output_type": "stream",
     "text": [
      "Train on 338717 samples, validate on 84680 samples\n",
      "Epoch 1/20\n",
      "338717/338717 [==============================] - 10s 29us/step - loss: 0.5429 - acc: 0.7682 - val_loss: 0.5410 - val_acc: 0.7673\n",
      "Epoch 2/20\n",
      "338717/338717 [==============================] - 9s 26us/step - loss: 0.5398 - acc: 0.7683 - val_loss: 0.5380 - val_acc: 0.7673\n",
      "Epoch 3/20\n",
      "338717/338717 [==============================] - 9s 25us/step - loss: 0.5300 - acc: 0.7694 - val_loss: 0.5094 - val_acc: 0.7676\n",
      "Epoch 4/20\n",
      "338717/338717 [==============================] - 8s 25us/step - loss: 0.5109 - acc: 0.7726 - val_loss: 0.4834 - val_acc: 0.7736\n",
      "Epoch 5/20\n",
      "338717/338717 [==============================] - 9s 26us/step - loss: 0.4913 - acc: 0.7840 - val_loss: 0.4416 - val_acc: 0.8023\n",
      "Epoch 6/20\n",
      "338717/338717 [==============================] - 9s 26us/step - loss: 0.4653 - acc: 0.8011 - val_loss: 0.4262 - val_acc: 0.8171\n",
      "Epoch 7/20\n",
      "338717/338717 [==============================] - 9s 26us/step - loss: 0.4576 - acc: 0.8041 - val_loss: 0.4148 - val_acc: 0.8245\n",
      "Epoch 8/20\n",
      "338717/338717 [==============================] - 9s 25us/step - loss: 0.4554 - acc: 0.8044 - val_loss: 0.4120 - val_acc: 0.8230\n",
      "Epoch 9/20\n",
      "338717/338717 [==============================] - 9s 25us/step - loss: 0.4528 - acc: 0.8061 - val_loss: 0.4283 - val_acc: 0.8228\n",
      "Epoch 10/20\n",
      "338717/338717 [==============================] - 9s 25us/step - loss: 0.4496 - acc: 0.8077 - val_loss: 0.4197 - val_acc: 0.8307\n",
      "Epoch 11/20\n",
      "338717/338717 [==============================] - 9s 25us/step - loss: 0.4466 - acc: 0.8092 - val_loss: 0.4117 - val_acc: 0.8286\n",
      "Epoch 12/20\n",
      "338717/338717 [==============================] - 9s 25us/step - loss: 0.4449 - acc: 0.8098 - val_loss: 0.4056 - val_acc: 0.8290\n",
      "Epoch 13/20\n",
      "338717/338717 [==============================] - 9s 25us/step - loss: 0.4437 - acc: 0.8105 - val_loss: 0.4079 - val_acc: 0.8344\n",
      "Epoch 14/20\n",
      "338717/338717 [==============================] - 9s 25us/step - loss: 0.4427 - acc: 0.8108 - val_loss: 0.4109 - val_acc: 0.8319\n",
      "Epoch 15/20\n",
      "338717/338717 [==============================] - 9s 25us/step - loss: 0.4420 - acc: 0.8107 - val_loss: 0.4020 - val_acc: 0.8351\n",
      "Epoch 16/20\n",
      "338717/338717 [==============================] - 9s 26us/step - loss: 0.4405 - acc: 0.8116 - val_loss: 0.3999 - val_acc: 0.8326\n",
      "Epoch 17/20\n",
      "338717/338717 [==============================] - 9s 25us/step - loss: 0.4394 - acc: 0.8116 - val_loss: 0.4066 - val_acc: 0.8223\n",
      "Epoch 18/20\n",
      "338717/338717 [==============================] - 9s 25us/step - loss: 0.4377 - acc: 0.8125 - val_loss: 0.3981 - val_acc: 0.8267\n",
      "Epoch 19/20\n",
      "338717/338717 [==============================] - 8s 25us/step - loss: 0.4374 - acc: 0.8128 - val_loss: 0.3977 - val_acc: 0.8321\n",
      "Epoch 20/20\n",
      "338717/338717 [==============================] - 9s 25us/step - loss: 0.4373 - acc: 0.8127 - val_loss: 0.3967 - val_acc: 0.8304\n"
     ]
    }
   ],
   "source": [
    "history = model.fit(X_train, y_train, validation_data=(X_test, y_test), epochs=20)"
   ]
  },
  {
   "cell_type": "code",
   "execution_count": 53,
   "metadata": {},
   "outputs": [
    {
     "data": {
      "image/png": "[encoded data removed]",
      "text/plain": [
       "<Figure size 432x288 with 1 Axes>"
      ]
     },
     "metadata": {},
     "output_type": "display_data"
    },
    {
     "data": {
      "image/png": "[encoded data removed]",
      "text/plain": [
       "<Figure size 432x288 with 1 Axes>"
      ]
     },
     "metadata": {},
     "output_type": "display_data"
    }
   ],
   "source": [
    "acc = history.history['acc']\n",
    "val_acc = history.history['val_acc']\n",
    "loss = history.history['loss']\n",
    "val_loss = history.history['val_loss']\n",
    "\n",
    "epochs = range(len(acc))\n",
    "\n",
    "plt.plot(epochs, acc, 'b', label='Training acc')\n",
    "plt.plot(epochs, val_acc, 'r', label='Validation acc')\n",
    "plt.title('Training and validation accuracy')\n",
    "plt.legend()\n",
    "\n",
    "plt.figure()\n",
    "\n",
    "plt.plot(epochs, loss, 'b', label='Training loss')\n",
    "plt.plot(epochs, val_loss, 'r', label='Validation loss')\n",
    "plt.title('Training and validation loss')\n",
    "plt.legend()\n",
    "\n",
    "plt.show()"
   ]
  },
  {
   "cell_type": "markdown",
   "metadata": {},
   "source": [
    "# RNN"
   ]
  },
  {
   "cell_type": "code",
   "execution_count": 34,
   "metadata": {},
   "outputs": [
    {
     "name": "stdout",
     "output_type": "stream",
     "text": [
      "_________________________________________________________________\n",
      "Layer (type)                 Output Shape              Param #   \n",
      "=================================================================\n",
      "gru_6 (GRU)                  (None, 5, 32)             4320      \n",
      "_________________________________________________________________\n",
      "gru_7 (GRU)                  (None, 64)                18624     \n",
      "_________________________________________________________________\n",
      "dense_7 (Dense)              (None, 5)                 325       \n",
      "=================================================================\n",
      "Total params: 23,269\n",
      "Trainable params: 23,269\n",
      "Non-trainable params: 0\n",
      "_________________________________________________________________\n"
     ]
    }
   ],
   "source": [
    "model = Sequential()\n",
    "model.add(layers.GRU(32, \n",
    "                     dropout=0.1,\n",
    "                     recurrent_dropout=0.2,\n",
    "                     return_sequences=True,\n",
    "                     input_shape=(5, X_train.shape[-1])))\n",
    "model.add(layers.GRU(64, \n",
    "                     activation='relu',\n",
    "                     dropout=0.1,\n",
    "                     recurrent_dropout=0.2))\n",
    "model.add(layers.Dense(5, activation='softmax'))\n",
    "\n",
    "model.compile(optimizer='adam', loss='binary_crossentropy', metrics = ['accuracy'])\n",
    "model.summary()"
   ]
  },
  {
   "cell_type": "code",
   "execution_count": 35,
   "metadata": {},
   "outputs": [
    {
     "name": "stdout",
     "output_type": "stream",
     "text": [
      "Train on 338717 samples, validate on 84680 samples\n",
      "Epoch 1/10\n",
      "338717/338717 [==============================] - 57s 169us/step - loss: 0.5094 - acc: 0.7849 - val_loss: 0.4067 - val_acc: 0.8404\n",
      "Epoch 2/10\n",
      "338717/338717 [==============================] - 56s 165us/step - loss: 0.4236 - acc: 0.8266 - val_loss: 0.3842 - val_acc: 0.8445\n",
      "Epoch 3/10\n",
      "338717/338717 [==============================] - 54s 160us/step - loss: 0.4100 - acc: 0.8288 - val_loss: 0.3749 - val_acc: 0.8483\n",
      "Epoch 4/10\n",
      "338717/338717 [==============================] - 54s 161us/step - loss: 0.4049 - acc: 0.8293 - val_loss: 0.3738 - val_acc: 0.8440\n",
      "Epoch 5/10\n",
      "338717/338717 [==============================] - 54s 158us/step - loss: 0.4017 - acc: 0.8294 - val_loss: 0.3691 - val_acc: 0.8447\n",
      "Epoch 6/10\n",
      "338717/338717 [==============================] - 53s 157us/step - loss: 0.3993 - acc: 0.8296 - val_loss: 0.3665 - val_acc: 0.8464\n",
      "Epoch 7/10\n",
      "338717/338717 [==============================] - 53s 158us/step - loss: 0.3973 - acc: 0.8294 - val_loss: 0.3658 - val_acc: 0.8479\n",
      "Epoch 8/10\n",
      "338717/338717 [==============================] - 54s 158us/step - loss: 0.3951 - acc: 0.8299 - val_loss: 0.3622 - val_acc: 0.8450\n",
      "Epoch 9/10\n",
      "338717/338717 [==============================] - 54s 159us/step - loss: 0.3936 - acc: 0.8297 - val_loss: 0.3624 - val_acc: 0.8479\n",
      "Epoch 10/10\n",
      "338717/338717 [==============================] - 53s 155us/step - loss: 0.3924 - acc: 0.8294 - val_loss: 0.3621 - val_acc: 0.8457\n"
     ]
    }
   ],
   "source": [
    "history = model.fit(X_train, y_train, validation_data=(X_test, y_test), epochs=10)"
   ]
  },
  {
   "cell_type": "markdown",
   "metadata": {},
   "source": [
    "## Results"
   ]
  },
  {
   "cell_type": "code",
   "execution_count": 36,
   "metadata": {},
   "outputs": [
    {
     "data": {
      "image/png": "[encoded data removed]",
      "text/plain": [
       "<Figure size 432x288 with 1 Axes>"
      ]
     },
     "metadata": {},
     "output_type": "display_data"
    },
    {
     "data": {
      "image/png": "[encoded data removed]",
      "text/plain": [
       "<Figure size 432x288 with 1 Axes>"
      ]
     },
     "metadata": {},
     "output_type": "display_data"
    }
   ],
   "source": [
    "import matplotlib.pyplot as plt\n",
    "\n",
    "acc = history.history['acc']\n",
    "val_acc = history.history['val_acc']\n",
    "loss = history.history['loss']\n",
    "val_loss = history.history['val_loss']\n",
    "\n",
    "epochs = range(len(acc))\n",
    "\n",
    "plt.plot(epochs, acc, 'b', label='Training acc')\n",
    "plt.plot(epochs, val_acc, 'r', label='Validation acc')\n",
    "plt.title('Training and validation accuracy')\n",
    "plt.legend()\n",
    "\n",
    "plt.figure()\n",
    "\n",
    "plt.plot(epochs, loss, 'b', label='Training loss')\n",
    "plt.plot(epochs, val_loss, 'r', label='Validation loss')\n",
    "plt.title('Training and validation loss')\n",
    "plt.legend()\n",
    "\n",
    "plt.show()"
   ]
  },
  {
   "cell_type": "markdown",
   "metadata": {},
   "source": [
    "## Saving Model"
   ]
  },
  {
   "cell_type": "code",
   "execution_count": 37,
   "metadata": {},
   "outputs": [],
   "source": [
    "# model.save_weights(\"RNN.h5\")\n",
    "import tensorflow as tf\n",
    "tf.keras.models.save_model(model,\"./LAX_RNN_1.h5\", overwrite=True, include_optimizer=True)"
   ]
  },
  {
   "cell_type": "markdown",
   "metadata": {},
   "source": [
    "## Tweaking Architecture"
   ]
  },
  {
   "cell_type": "markdown",
   "metadata": {},
   "source": [
    "Making first GRU layer have 64 neurons"
   ]
  },
  {
   "cell_type": "code",
   "execution_count": 38,
   "metadata": {},
   "outputs": [
    {
     "name": "stdout",
     "output_type": "stream",
     "text": [
      "_________________________________________________________________\n",
      "Layer (type)                 Output Shape              Param #   \n",
      "=================================================================\n",
      "gru_8 (GRU)                  (None, 5, 64)             14784     \n",
      "_________________________________________________________________\n",
      "gru_9 (GRU)                  (None, 64)                24768     \n",
      "_________________________________________________________________\n",
      "dense_8 (Dense)              (None, 5)                 325       \n",
      "=================================================================\n",
      "Total params: 39,877\n",
      "Trainable params: 39,877\n",
      "Non-trainable params: 0\n",
      "_________________________________________________________________\n"
     ]
    }
   ],
   "source": [
    "model2 = Sequential()\n",
    "model2.add(layers.GRU(64, \n",
    "                     dropout=0.1,\n",
    "                     recurrent_dropout=0.2,\n",
    "                     return_sequences=True,\n",
    "                     input_shape=(5, X_train.shape[-1])))\n",
    "model2.add(layers.GRU(64, \n",
    "                     activation='relu',\n",
    "                     dropout=0.1,\n",
    "                     recurrent_dropout=0.2))\n",
    "model2.add(layers.Dense(5, activation='softmax'))\n",
    "\n",
    "model2.compile(optimizer='adam', loss='binary_crossentropy', metrics = ['accuracy'])\n",
    "model2.summary()"
   ]
  },
  {
   "cell_type": "code",
   "execution_count": 39,
   "metadata": {},
   "outputs": [
    {
     "name": "stdout",
     "output_type": "stream",
     "text": [
      "Train on 338717 samples, validate on 84680 samples\n",
      "Epoch 1/10\n",
      "338717/338717 [==============================] - 58s 172us/step - loss: 0.5030 - acc: 0.7885 - val_loss: 0.4087 - val_acc: 0.8369\n",
      "Epoch 2/10\n",
      "338717/338717 [==============================] - 56s 166us/step - loss: 0.4213 - acc: 0.8272 - val_loss: 0.3800 - val_acc: 0.8443\n",
      "Epoch 3/10\n",
      "338717/338717 [==============================] - 58s 171us/step - loss: 0.4070 - acc: 0.8292 - val_loss: 0.3707 - val_acc: 0.8428\n",
      "Epoch 4/10\n",
      "338717/338717 [==============================] - 58s 171us/step - loss: 0.3997 - acc: 0.8288 - val_loss: 0.3650 - val_acc: 0.8439\n",
      "Epoch 5/10\n",
      "338717/338717 [==============================] - 56s 167us/step - loss: 0.3948 - acc: 0.8291 - val_loss: 0.3635 - val_acc: 0.8486\n",
      "Epoch 6/10\n",
      "338717/338717 [==============================] - 56s 167us/step - loss: 0.3914 - acc: 0.8292 - val_loss: 0.3586 - val_acc: 0.8444\n",
      "Epoch 7/10\n",
      "338717/338717 [==============================] - 56s 167us/step - loss: 0.3889 - acc: 0.8290 - val_loss: 0.3616 - val_acc: 0.8461\n",
      "Epoch 8/10\n",
      "338717/338717 [==============================] - 57s 167us/step - loss: 0.3874 - acc: 0.8290 - val_loss: 0.3573 - val_acc: 0.8457\n",
      "Epoch 9/10\n",
      "338717/338717 [==============================] - 56s 166us/step - loss: 0.3860 - acc: 0.8290 - val_loss: 0.3588 - val_acc: 0.8380\n",
      "Epoch 10/10\n",
      "338717/338717 [==============================] - 56s 166us/step - loss: 0.3849 - acc: 0.8290 - val_loss: 0.3571 - val_acc: 0.8427\n"
     ]
    }
   ],
   "source": [
    "history = model2.fit(X_train, y_train, validation_data=(X_test, y_test), epochs=10)"
   ]
  },
  {
   "cell_type": "code",
   "execution_count": 40,
   "metadata": {},
   "outputs": [
    {
     "data": {
      "image/png": "[encoded data removed]",
      "text/plain": [
       "<Figure size 432x288 with 1 Axes>"
      ]
     },
     "metadata": {},
     "output_type": "display_data"
    },
    {
     "data": {
      "image/png": "[encoded data removed]",
      "text/plain": [
       "<Figure size 432x288 with 1 Axes>"
      ]
     },
     "metadata": {},
     "output_type": "display_data"
    }
   ],
   "source": [
    "tf.keras.models.save_model(model2,\"./LAX_RNN_2.h5\", overwrite=True, include_optimizer=True)\n",
    "\n",
    "acc = history.history['acc']\n",
    "val_acc = history.history['val_acc']\n",
    "loss = history.history['loss']\n",
    "val_loss = history.history['val_loss']\n",
    "\n",
    "epochs = range(len(acc))\n",
    "\n",
    "plt.plot(epochs, acc, 'b', label='Training acc')\n",
    "plt.plot(epochs, val_acc, 'r', label='Validation acc')\n",
    "plt.title('Training and validation accuracy')\n",
    "plt.legend()\n",
    "\n",
    "plt.figure()\n",
    "\n",
    "plt.plot(epochs, loss, 'b', label='Training loss')\n",
    "plt.plot(epochs, val_loss, 'r', label='Validation loss')\n",
    "plt.title('Training and validation loss')\n",
    "plt.legend()\n",
    "\n",
    "plt.show()"
   ]
  },
  {
   "cell_type": "markdown",
   "metadata": {},
   "source": [
    "Making both dropouts = 0.2"
   ]
  },
  {
   "cell_type": "code",
   "execution_count": 41,
   "metadata": {},
   "outputs": [
    {
     "name": "stdout",
     "output_type": "stream",
     "text": [
      "_________________________________________________________________\n",
      "Layer (type)                 Output Shape              Param #   \n",
      "=================================================================\n",
      "gru_10 (GRU)                 (None, 5, 64)             14784     \n",
      "_________________________________________________________________\n",
      "gru_11 (GRU)                 (None, 64)                24768     \n",
      "_________________________________________________________________\n",
      "dense_9 (Dense)              (None, 5)                 325       \n",
      "=================================================================\n",
      "Total params: 39,877\n",
      "Trainable params: 39,877\n",
      "Non-trainable params: 0\n",
      "_________________________________________________________________\n"
     ]
    }
   ],
   "source": [
    "model3 = Sequential()\n",
    "model3.add(layers.GRU(64, \n",
    "                     dropout=0.2,\n",
    "                     recurrent_dropout=0.2,\n",
    "                     return_sequences=True,\n",
    "                     input_shape=(5, X_train.shape[-1])))\n",
    "model3.add(layers.GRU(64, \n",
    "                     activation='relu',\n",
    "                     dropout=0.2,\n",
    "                     recurrent_dropout=0.2))\n",
    "model3.add(layers.Dense(5, activation='softmax'))\n",
    "\n",
    "model3.compile(optimizer='adam', loss='binary_crossentropy', metrics = ['accuracy'])\n",
    "model3.summary()"
   ]
  },
  {
   "cell_type": "code",
   "execution_count": 42,
   "metadata": {},
   "outputs": [
    {
     "name": "stdout",
     "output_type": "stream",
     "text": [
      "Train on 338717 samples, validate on 84680 samples\n",
      "Epoch 1/10\n",
      "338717/338717 [==============================] - 58s 172us/step - loss: 0.5213 - acc: 0.7792 - val_loss: 0.4218 - val_acc: 0.8357\n",
      "Epoch 2/10\n",
      "338717/338717 [==============================] - 56s 166us/step - loss: 0.4411 - acc: 0.8187 - val_loss: 0.3888 - val_acc: 0.8447\n",
      "Epoch 3/10\n",
      "338717/338717 [==============================] - 56s 166us/step - loss: 0.4256 - acc: 0.8206 - val_loss: 0.3858 - val_acc: 0.8441\n",
      "Epoch 4/10\n",
      "338717/338717 [==============================] - 57s 169us/step - loss: 0.4188 - acc: 0.8211 - val_loss: 0.3813 - val_acc: 0.8455\n",
      "Epoch 5/10\n",
      "338717/338717 [==============================] - 56s 166us/step - loss: 0.4147 - acc: 0.8213 - val_loss: 0.3751 - val_acc: 0.8443\n",
      "Epoch 6/10\n",
      "338717/338717 [==============================] - 56s 166us/step - loss: 0.4120 - acc: 0.8213 - val_loss: 0.3740 - val_acc: 0.8482\n",
      "Epoch 7/10\n",
      "338717/338717 [==============================] - 56s 165us/step - loss: 0.4096 - acc: 0.8213 - val_loss: 0.3749 - val_acc: 0.8471\n",
      "Epoch 8/10\n",
      "338717/338717 [==============================] - 56s 165us/step - loss: 0.4078 - acc: 0.8214 - val_loss: 0.3668 - val_acc: 0.8439\n",
      "Epoch 9/10\n",
      "338717/338717 [==============================] - 56s 165us/step - loss: 0.4071 - acc: 0.8215 - val_loss: 0.3666 - val_acc: 0.8466\n",
      "Epoch 10/10\n",
      "338717/338717 [==============================] - 56s 166us/step - loss: 0.4058 - acc: 0.8217 - val_loss: 0.3676 - val_acc: 0.8443\n"
     ]
    }
   ],
   "source": [
    "history = model3.fit(X_train, y_train, validation_data=(X_test, y_test), epochs=10)"
   ]
  },
  {
   "cell_type": "code",
   "execution_count": 43,
   "metadata": {},
   "outputs": [
    {
     "data": {
      "image/png": "[encoded data removed]",
      "text/plain": [
       "<Figure size 432x288 with 1 Axes>"
      ]
     },
     "metadata": {},
     "output_type": "display_data"
    },
    {
     "data": {
      "image/png": "[encoded data removed]",
      "text/plain": [
       "<Figure size 432x288 with 1 Axes>"
      ]
     },
     "metadata": {},
     "output_type": "display_data"
    }
   ],
   "source": [
    "tf.keras.models.save_model(model3,\"./LAX_RNN_3.h5\", overwrite=True, include_optimizer=True)\n",
    "\n",
    "acc = history.history['acc']\n",
    "val_acc = history.history['val_acc']\n",
    "loss = history.history['loss']\n",
    "val_loss = history.history['val_loss']\n",
    "\n",
    "epochs = range(len(acc))\n",
    "\n",
    "plt.plot(epochs, acc, 'b', label='Training acc')\n",
    "plt.plot(epochs, val_acc, 'r', label='Validation acc')\n",
    "plt.title('Training and validation accuracy')\n",
    "plt.legend()\n",
    "\n",
    "plt.figure()\n",
    "\n",
    "plt.plot(epochs, loss, 'b', label='Training loss')\n",
    "plt.plot(epochs, val_loss, 'r', label='Validation loss')\n",
    "plt.title('Training and validation loss')\n",
    "plt.legend()\n",
    "\n",
    "plt.show()"
   ]
  },
  {
   "cell_type": "markdown",
   "metadata": {},
   "source": [
    "Making ``recurrent_initializer`` = 'he_normal'"
   ]
  },
  {
   "cell_type": "code",
   "execution_count": 44,
   "metadata": {},
   "outputs": [
    {
     "name": "stdout",
     "output_type": "stream",
     "text": [
      "WARNING:tensorflow:From C:\\Users\\2pawn\\Anaconda3\\lib\\site-packages\\tensorflow\\python\\keras\\initializers.py:104: calling VarianceScaling.__init__ (from tensorflow.python.ops.init_ops) with distribution=normal is deprecated and will be removed in a future version.\n",
      "Instructions for updating:\n",
      "`normal` is a deprecated alias for `truncated_normal`\n",
      "_________________________________________________________________\n",
      "Layer (type)                 Output Shape              Param #   \n",
      "=================================================================\n",
      "gru_12 (GRU)                 (None, 5, 64)             14784     \n",
      "_________________________________________________________________\n",
      "gru_13 (GRU)                 (None, 64)                24768     \n",
      "_________________________________________________________________\n",
      "dense_10 (Dense)             (None, 5)                 325       \n",
      "=================================================================\n",
      "Total params: 39,877\n",
      "Trainable params: 39,877\n",
      "Non-trainable params: 0\n",
      "_________________________________________________________________\n"
     ]
    }
   ],
   "source": [
    "model4 = Sequential()\n",
    "model4.add(layers.GRU(64, \n",
    "                     dropout=0.2,\n",
    "                     recurrent_dropout=0.2,\n",
    "                     recurrent_initializer='he_normal',\n",
    "                     return_sequences=True,\n",
    "                     input_shape=(5, X_train.shape[-1])))\n",
    "model4.add(layers.GRU(64, \n",
    "                     activation='relu',\n",
    "                     dropout=0.2,\n",
    "                     recurrent_dropout=0.2,\n",
    "                     recurrent_initializer='he_normal',))\n",
    "model4.add(layers.Dense(5, activation='softmax'))\n",
    "\n",
    "model4.compile(optimizer='adam', loss='binary_crossentropy', metrics = ['accuracy'])\n",
    "model4.summary()"
   ]
  },
  {
   "cell_type": "code",
   "execution_count": 45,
   "metadata": {},
   "outputs": [
    {
     "name": "stdout",
     "output_type": "stream",
     "text": [
      "Train on 338717 samples, validate on 84680 samples\n",
      "Epoch 1/10\n",
      "338717/338717 [==============================] - 57s 169us/step - loss: 0.5233 - acc: 0.7777 - val_loss: 0.4328 - val_acc: 0.8279\n",
      "Epoch 2/10\n",
      "338717/338717 [==============================] - 56s 164us/step - loss: 0.4444 - acc: 0.8181 - val_loss: 0.3953 - val_acc: 0.8454\n",
      "Epoch 3/10\n",
      "338717/338717 [==============================] - 55s 163us/step - loss: 0.4280 - acc: 0.8205 - val_loss: 0.3821 - val_acc: 0.8431\n",
      "Epoch 4/10\n",
      "338717/338717 [==============================] - 56s 164us/step - loss: 0.4194 - acc: 0.8210 - val_loss: 0.3768 - val_acc: 0.8489\n",
      "Epoch 5/10\n",
      "338717/338717 [==============================] - 56s 165us/step - loss: 0.4147 - acc: 0.8211 - val_loss: 0.3758 - val_acc: 0.8460\n",
      "Epoch 6/10\n",
      "338717/338717 [==============================] - 55s 164us/step - loss: 0.4113 - acc: 0.8212 - val_loss: 0.3695 - val_acc: 0.8485\n",
      "Epoch 7/10\n",
      "338717/338717 [==============================] - 55s 162us/step - loss: 0.4094 - acc: 0.8209 - val_loss: 0.3694 - val_acc: 0.8485\n",
      "Epoch 8/10\n",
      "338717/338717 [==============================] - 55s 163us/step - loss: 0.4078 - acc: 0.8214 - val_loss: 0.3682 - val_acc: 0.8483\n",
      "Epoch 9/10\n",
      "338717/338717 [==============================] - 55s 163us/step - loss: 0.4061 - acc: 0.8213 - val_loss: 0.3718 - val_acc: 0.8473\n",
      "Epoch 10/10\n",
      "338717/338717 [==============================] - 55s 164us/step - loss: 0.4055 - acc: 0.8210 - val_loss: 0.3676 - val_acc: 0.8435\n"
     ]
    }
   ],
   "source": [
    "history = model4.fit(X_train, y_train, validation_data=(X_test, y_test), epochs=10)"
   ]
  },
  {
   "cell_type": "code",
   "execution_count": 46,
   "metadata": {},
   "outputs": [
    {
     "data": {
      "image/png": "[encoded data removed]",
      "text/plain": [
       "<Figure size 432x288 with 1 Axes>"
      ]
     },
     "metadata": {},
     "output_type": "display_data"
    },
    {
     "data": {
      "image/png": "[encoded data removed]",
      "text/plain": [
       "<Figure size 432x288 with 1 Axes>"
      ]
     },
     "metadata": {},
     "output_type": "display_data"
    }
   ],
   "source": [
    "tf.keras.models.save_model(model4,\"./LAX_RNN_4.h5\", overwrite=True, include_optimizer=True)\n",
    "\n",
    "acc = history.history['acc']\n",
    "val_acc = history.history['val_acc']\n",
    "loss = history.history['loss']\n",
    "val_loss = history.history['val_loss']\n",
    "\n",
    "epochs = range(len(acc))\n",
    "\n",
    "plt.plot(epochs, acc, 'b', label='Training acc')\n",
    "plt.plot(epochs, val_acc, 'r', label='Validation acc')\n",
    "plt.title('Training and validation accuracy')\n",
    "plt.legend()\n",
    "\n",
    "plt.figure()\n",
    "\n",
    "plt.plot(epochs, loss, 'b', label='Training loss')\n",
    "plt.plot(epochs, val_loss, 'r', label='Validation loss')\n",
    "plt.title('Training and validation loss')\n",
    "plt.legend()\n",
    "\n",
    "plt.show()"
   ]
  },
  {
   "cell_type": "code",
   "execution_count": 60,
   "metadata": {},
   "outputs": [
    {
     "name": "stdout",
     "output_type": "stream",
     "text": [
      "_________________________________________________________________\n",
      "Layer (type)                 Output Shape              Param #   \n",
      "=================================================================\n",
      "lstm (LSTM)                  (None, 5, 64)             19712     \n",
      "_________________________________________________________________\n",
      "lstm_1 (LSTM)                (None, 64)                33024     \n",
      "_________________________________________________________________\n",
      "dense_17 (Dense)             (None, 5)                 325       \n",
      "=================================================================\n",
      "Total params: 53,061\n",
      "Trainable params: 53,061\n",
      "Non-trainable params: 0\n",
      "_________________________________________________________________\n"
     ]
    }
   ],
   "source": [
    "model5 = Sequential()\n",
    "model5.add(layers.LSTM(64, \n",
    "                     dropout=0.2,\n",
    "                     recurrent_dropout=0.2,\n",
    "                     recurrent_initializer='he_normal',\n",
    "                     return_sequences=True,\n",
    "                     input_shape=(5, X_train.shape[-1])))\n",
    "model5.add(layers.LSTM(64, \n",
    "                     activation='relu',\n",
    "                     dropout=0.2,\n",
    "                     recurrent_dropout=0.2,\n",
    "                     recurrent_initializer='he_normal',))\n",
    "model5.add(layers.Dense(5, activation='softmax'))\n",
    "\n",
    "model5.compile(optimizer='adam', loss='binary_crossentropy', metrics = ['accuracy'])\n",
    "model5.summary()"
   ]
  },
  {
   "cell_type": "code",
   "execution_count": 61,
   "metadata": {},
   "outputs": [
    {
     "name": "stdout",
     "output_type": "stream",
     "text": [
      "Train on 338717 samples, validate on 84680 samples\n",
      "Epoch 1/10\n",
      "338717/338717 [==============================] - 73s 217us/step - loss: 0.5420 - acc: 0.7683 - val_loss: 0.5368 - val_acc: 0.7673\n",
      "Epoch 2/10\n",
      "338717/338717 [==============================] - 69s 204us/step - loss: 0.4649 - acc: 0.8072 - val_loss: 0.4038 - val_acc: 0.8434\n",
      "Epoch 3/10\n",
      "338717/338717 [==============================] - 76s 224us/step - loss: 0.4325 - acc: 0.8211 - val_loss: 0.3881 - val_acc: 0.8441\n",
      "Epoch 4/10\n",
      "338717/338717 [==============================] - 74s 218us/step - loss: 0.4220 - acc: 0.8216 - val_loss: 0.3792 - val_acc: 0.8454\n",
      "Epoch 5/10\n",
      "338717/338717 [==============================] - 76s 224us/step - loss: 0.4161 - acc: 0.8217 - val_loss: 0.3760 - val_acc: 0.8464\n",
      "Epoch 6/10\n",
      "338717/338717 [==============================] - 73s 216us/step - loss: 0.4128 - acc: 0.8215 - val_loss: 0.3742 - val_acc: 0.8444\n",
      "Epoch 7/10\n",
      "338717/338717 [==============================] - 71s 209us/step - loss: 0.4095 - acc: 0.8217 - val_loss: 0.3715 - val_acc: 0.8468\n",
      "Epoch 8/10\n",
      "338717/338717 [==============================] - 73s 217us/step - loss: 0.4073 - acc: 0.8215 - val_loss: 0.3724 - val_acc: 0.8443\n",
      "Epoch 9/10\n",
      "338717/338717 [==============================] - 67s 198us/step - loss: 0.4057 - acc: 0.8213 - val_loss: 0.3695 - val_acc: 0.8451\n",
      "Epoch 10/10\n",
      "338717/338717 [==============================] - 68s 200us/step - loss: 0.4041 - acc: 0.8215 - val_loss: 0.3657 - val_acc: 0.8492\n"
     ]
    }
   ],
   "source": [
    "history = model5.fit(X_train, y_train, validation_data=(X_test, y_test), epochs=10)"
   ]
  },
  {
   "cell_type": "code",
   "execution_count": 62,
   "metadata": {},
   "outputs": [
    {
     "data": {
      "image/png": "[encoded data removed]",
      "text/plain": [
       "<Figure size 432x288 with 1 Axes>"
      ]
     },
     "metadata": {},
     "output_type": "display_data"
    },
    {
     "data": {
      "image/png": "[encoded data removed]",
      "text/plain": [
       "<Figure size 432x288 with 1 Axes>"
      ]
     },
     "metadata": {},
     "output_type": "display_data"
    }
   ],
   "source": [
    "tf.keras.models.save_model(model5,\"./LAX_RNN_5.h5\", overwrite=True, include_optimizer=True)\n",
    "\n",
    "acc = history.history['acc']\n",
    "val_acc = history.history['val_acc']\n",
    "loss = history.history['loss']\n",
    "val_loss = history.history['val_loss']\n",
    "\n",
    "epochs = range(len(acc))\n",
    "\n",
    "plt.plot(epochs, acc, 'b', label='Training acc')\n",
    "plt.plot(epochs, val_acc, 'r', label='Validation acc')\n",
    "plt.title('Training and validation accuracy')\n",
    "plt.legend()\n",
    "\n",
    "plt.figure()\n",
    "\n",
    "plt.plot(epochs, loss, 'b', label='Training loss')\n",
    "plt.plot(epochs, val_loss, 'r', label='Validation loss')\n",
    "plt.title('Training and validation loss')\n",
    "plt.legend()\n",
    "\n",
    "plt.show()"
   ]
  },
  {
   "cell_type": "markdown",
   "metadata": {},
   "source": [
    "## Assessing Performance"
   ]
  },
  {
   "cell_type": "code",
   "execution_count": 83,
   "metadata": {},
   "outputs": [
    {
     "data": {
      "text/plain": [
       "0.7680673023100922"
      ]
     },
     "execution_count": 83,
     "metadata": {},
     "output_type": "execute_result"
    }
   ],
   "source": [
    "1 - data['DEP_DEL15'].mean()"
   ]
  },
  {
   "cell_type": "markdown",
   "metadata": {},
   "source": [
    "So, the baseline model would just to be assign 0 to all flights. This gives an accuracy of 76.8%, meaning our validation accuracy of 84.5% is a significant improvement."
   ]
  },
  {
   "cell_type": "code",
   "execution_count": 100,
   "metadata": {
    "scrolled": true
   },
   "outputs": [
    {
     "data": {
      "text/html": [
       "<div>\n",
       "<style scoped>\n",
       "    .dataframe tbody tr th:only-of-type {\n",
       "        vertical-align: middle;\n",
       "    }\n",
       "\n",
       "    .dataframe tbody tr th {\n",
       "        vertical-align: top;\n",
       "    }\n",
       "\n",
       "    .dataframe thead th {\n",
       "        text-align: right;\n",
       "    }\n",
       "</style>\n",
       "<table border=\"1\" class=\"dataframe\">\n",
       "  <thead>\n",
       "    <tr style=\"text-align: right;\">\n",
       "      <th></th>\n",
       "      <th>number_of_seats</th>\n",
       "      <th>origin_passenger_count</th>\n",
       "      <th>dest_passenger_count</th>\n",
       "      <th>OP_CARRIER_AIRLINE_ID</th>\n",
       "      <th>DISTANCE</th>\n",
       "      <th>DEP_TIME</th>\n",
       "      <th>temp_origin_imp</th>\n",
       "      <th>precip_origin_imp</th>\n",
       "      <th>mfr_name_AIRBUS</th>\n",
       "      <th>mfr_name_BOEING</th>\n",
       "      <th>mfr_name_BOMBARDIER INC</th>\n",
       "      <th>mfr_name_EMBRAER</th>\n",
       "      <th>mfr_name_MCDONNELL DOUGLAS</th>\n",
       "    </tr>\n",
       "  </thead>\n",
       "  <tbody>\n",
       "    <tr>\n",
       "      <th>10685817</th>\n",
       "      <td>0.401840</td>\n",
       "      <td>0.0</td>\n",
       "      <td>0.632948</td>\n",
       "      <td>0.231721</td>\n",
       "      <td>0.453682</td>\n",
       "      <td>0.007920</td>\n",
       "      <td>0.177419</td>\n",
       "      <td>0.0</td>\n",
       "      <td>1.0</td>\n",
       "      <td>0.0</td>\n",
       "      <td>0.0</td>\n",
       "      <td>0.0</td>\n",
       "      <td>0.0</td>\n",
       "    </tr>\n",
       "    <tr>\n",
       "      <th>10773718</th>\n",
       "      <td>0.420245</td>\n",
       "      <td>0.0</td>\n",
       "      <td>0.283604</td>\n",
       "      <td>0.231721</td>\n",
       "      <td>0.915677</td>\n",
       "      <td>0.010838</td>\n",
       "      <td>0.177419</td>\n",
       "      <td>0.0</td>\n",
       "      <td>1.0</td>\n",
       "      <td>0.0</td>\n",
       "      <td>0.0</td>\n",
       "      <td>0.0</td>\n",
       "      <td>0.0</td>\n",
       "    </tr>\n",
       "    <tr>\n",
       "      <th>6962597</th>\n",
       "      <td>0.401840</td>\n",
       "      <td>0.0</td>\n",
       "      <td>0.411787</td>\n",
       "      <td>0.231721</td>\n",
       "      <td>0.891924</td>\n",
       "      <td>0.010004</td>\n",
       "      <td>0.401926</td>\n",
       "      <td>0.0</td>\n",
       "      <td>1.0</td>\n",
       "      <td>0.0</td>\n",
       "      <td>0.0</td>\n",
       "      <td>0.0</td>\n",
       "      <td>0.0</td>\n",
       "    </tr>\n",
       "    <tr>\n",
       "      <th>10773724</th>\n",
       "      <td>0.564417</td>\n",
       "      <td>0.0</td>\n",
       "      <td>0.366003</td>\n",
       "      <td>0.223285</td>\n",
       "      <td>0.572447</td>\n",
       "      <td>0.010838</td>\n",
       "      <td>0.177419</td>\n",
       "      <td>0.0</td>\n",
       "      <td>0.0</td>\n",
       "      <td>1.0</td>\n",
       "      <td>0.0</td>\n",
       "      <td>0.0</td>\n",
       "      <td>0.0</td>\n",
       "    </tr>\n",
       "    <tr>\n",
       "      <th>10773723</th>\n",
       "      <td>0.239264</td>\n",
       "      <td>0.0</td>\n",
       "      <td>0.136893</td>\n",
       "      <td>0.231721</td>\n",
       "      <td>0.676168</td>\n",
       "      <td>0.019175</td>\n",
       "      <td>0.177419</td>\n",
       "      <td>0.0</td>\n",
       "      <td>1.0</td>\n",
       "      <td>0.0</td>\n",
       "      <td>0.0</td>\n",
       "      <td>0.0</td>\n",
       "      <td>0.0</td>\n",
       "    </tr>\n",
       "  </tbody>\n",
       "</table>\n",
       "</div>"
      ],
      "text/plain": [
       "          number_of_seats  origin_passenger_count  dest_passenger_count  \\\n",
       "10685817         0.401840                     0.0              0.632948   \n",
       "10773718         0.420245                     0.0              0.283604   \n",
       "6962597          0.401840                     0.0              0.411787   \n",
       "10773724         0.564417                     0.0              0.366003   \n",
       "10773723         0.239264                     0.0              0.136893   \n",
       "\n",
       "          OP_CARRIER_AIRLINE_ID  DISTANCE  DEP_TIME  temp_origin_imp  \\\n",
       "10685817               0.231721  0.453682  0.007920         0.177419   \n",
       "10773718               0.231721  0.915677  0.010838         0.177419   \n",
       "6962597                0.231721  0.891924  0.010004         0.401926   \n",
       "10773724               0.223285  0.572447  0.010838         0.177419   \n",
       "10773723               0.231721  0.676168  0.019175         0.177419   \n",
       "\n",
       "          precip_origin_imp  mfr_name_AIRBUS  mfr_name_BOEING  \\\n",
       "10685817                0.0              1.0              0.0   \n",
       "10773718                0.0              1.0              0.0   \n",
       "6962597                 0.0              1.0              0.0   \n",
       "10773724                0.0              0.0              1.0   \n",
       "10773723                0.0              1.0              0.0   \n",
       "\n",
       "          mfr_name_BOMBARDIER INC  mfr_name_EMBRAER  \\\n",
       "10685817                      0.0               0.0   \n",
       "10773718                      0.0               0.0   \n",
       "6962597                       0.0               0.0   \n",
       "10773724                      0.0               0.0   \n",
       "10773723                      0.0               0.0   \n",
       "\n",
       "          mfr_name_MCDONNELL DOUGLAS  \n",
       "10685817                         0.0  \n",
       "10773718                         0.0  \n",
       "6962597                          0.0  \n",
       "10773724                         0.0  \n",
       "10773723                         0.0  "
      ]
     },
     "execution_count": 100,
     "metadata": {},
     "output_type": "execute_result"
    }
   ],
   "source": [
    "data.loc[:, data.columns != 'DEP_DEL15'].head()"
   ]
  },
  {
   "cell_type": "markdown",
   "metadata": {},
   "source": [
    "## Changing Parameters\n",
    "Main thing to change first is ``look_back`` value. Let's double it from 5 to 10. Let's stop at 10 epochs this time too."
   ]
  },
  {
   "cell_type": "code",
   "execution_count": 103,
   "metadata": {},
   "outputs": [
    {
     "name": "stdout",
     "output_type": "stream",
     "text": [
      "X_train.shape:  (338713, 10, 13)\n",
      "X_test.shape:  (84679, 10, 13)\n",
      "y_train.shape:  (338713, 10)\n",
      "y_test.shape:  (84679, 10)\n"
     ]
    }
   ],
   "source": [
    "look_back = 10 # Number of flights to look back for RNN\n",
    "\n",
    "def create_dataset(dataset, look_back):\n",
    "    # Converts dataset to sequences\n",
    "    dataX = []\n",
    "    for i in range(len(dataset)-look_back-1):\n",
    "        a = dataset[i:(i+look_back), :]\n",
    "        dataX.append(a)\n",
    "    return np.array(dataX)\n",
    "\n",
    "a = create_dataset(data.values, look_back)\n",
    "\n",
    "X_train, X_test, y_train, y_test = train_test_split(np.delete(a, [8], axis=2), a[:,:,8], test_size=0.2, random_state=123)\n",
    "print(\"X_train.shape: \", X_train.shape)\n",
    "print(\"X_test.shape: \", X_test.shape)\n",
    "print(\"y_train.shape: \", y_train.shape)\n",
    "print(\"y_test.shape: \", y_test.shape)"
   ]
  },
  {
   "cell_type": "code",
   "execution_count": 106,
   "metadata": {},
   "outputs": [
    {
     "name": "stdout",
     "output_type": "stream",
     "text": [
      "_________________________________________________________________\n",
      "Layer (type)                 Output Shape              Param #   \n",
      "=================================================================\n",
      "gru_8 (GRU)                  (None, 10, 32)            4416      \n",
      "_________________________________________________________________\n",
      "gru_9 (GRU)                  (None, 64)                18624     \n",
      "_________________________________________________________________\n",
      "dense_4 (Dense)              (None, 10)                650       \n",
      "=================================================================\n",
      "Total params: 23,690\n",
      "Trainable params: 23,690\n",
      "Non-trainable params: 0\n",
      "_________________________________________________________________\n"
     ]
    }
   ],
   "source": [
    "model2 = Sequential()\n",
    "model2.add(layers.GRU(32, \n",
    "                     dropout=0.1,\n",
    "                     recurrent_dropout=0.2,\n",
    "                     return_sequences=True,\n",
    "                     input_shape=(look_back, X_train.shape[-1])))\n",
    "model2.add(layers.GRU(64, \n",
    "                     activation='relu',\n",
    "                     dropout=0.1,\n",
    "                     recurrent_dropout=0.2))\n",
    "model2.add(layers.Dense(look_back, activation='softmax'))\n",
    "\n",
    "model2.compile(optimizer='adam', loss='binary_crossentropy', metrics = ['accuracy'])\n",
    "model2.summary()"
   ]
  },
  {
   "cell_type": "code",
   "execution_count": 107,
   "metadata": {},
   "outputs": [
    {
     "name": "stdout",
     "output_type": "stream",
     "text": [
      "Train on 338713 samples, validate on 84679 samples\n",
      "Epoch 1/10\n",
      "338713/338713 [==============================] - 94s 279us/step - loss: 0.6103 - acc: 0.7685 - val_loss: 0.5379 - val_acc: 0.7783\n",
      "Epoch 2/10\n",
      "338713/338713 [==============================] - 94s 277us/step - loss: 0.5051 - acc: 0.7787 - val_loss: 0.4454 - val_acc: 0.7907\n",
      "Epoch 3/10\n",
      "338713/338713 [==============================] - 93s 275us/step - loss: 0.4753 - acc: 0.7826 - val_loss: 0.4434 - val_acc: 0.7887\n",
      "Epoch 4/10\n",
      "338713/338713 [==============================] - 93s 276us/step - loss: 0.4660 - acc: 0.7835 - val_loss: 0.4330 - val_acc: 0.7896\n",
      "Epoch 5/10\n",
      "338713/338713 [==============================] - 93s 274us/step - loss: 0.4599 - acc: 0.7840 - val_loss: 0.4351 - val_acc: 0.7938\n",
      "Epoch 6/10\n",
      "338713/338713 [==============================] - 95s 279us/step - loss: 0.4562 - acc: 0.7843 - val_loss: 0.4309 - val_acc: 0.7904\n",
      "Epoch 7/10\n",
      "338713/338713 [==============================] - 94s 276us/step - loss: 0.4531 - acc: 0.7847 - val_loss: 0.4245 - val_acc: 0.7917\n",
      "Epoch 8/10\n",
      "338713/338713 [==============================] - 93s 274us/step - loss: 0.4517 - acc: 0.7846 - val_loss: 0.4272 - val_acc: 0.7916\n",
      "Epoch 9/10\n",
      "338713/338713 [==============================] - 94s 277us/step - loss: 0.4500 - acc: 0.7847 - val_loss: 0.4286 - val_acc: 0.7925\n",
      "Epoch 10/10\n",
      "338713/338713 [==============================] - 95s 280us/step - loss: 0.4487 - acc: 0.7850 - val_loss: 0.4208 - val_acc: 0.7935\n"
     ]
    }
   ],
   "source": [
    "history = model2.fit(X_train, y_train, validation_data=(X_test, y_test), epochs=10)"
   ]
  },
  {
   "cell_type": "code",
   "execution_count": 108,
   "metadata": {},
   "outputs": [
    {
     "data": {
      "image/png": "[encoded data removed]",
      "text/plain": [
       "<Figure size 432x288 with 1 Axes>"
      ]
     },
     "metadata": {},
     "output_type": "display_data"
    },
    {
     "data": {
      "image/png": "[encoded data removed]",
      "text/plain": [
       "<Figure size 432x288 with 1 Axes>"
      ]
     },
     "metadata": {},
     "output_type": "display_data"
    }
   ],
   "source": [
    "acc = history.history['acc']\n",
    "val_acc = history.history['val_acc']\n",
    "loss = history.history['loss']\n",
    "val_loss = history.history['val_loss']\n",
    "\n",
    "epochs = range(len(acc))\n",
    "\n",
    "plt.plot(epochs, acc, 'b', label='Training acc')\n",
    "plt.plot(epochs, val_acc, 'r', label='Validation acc')\n",
    "plt.title('Training and validation accuracy')\n",
    "plt.legend()\n",
    "\n",
    "plt.figure()\n",
    "\n",
    "plt.plot(epochs, loss, 'b', label='Training loss')\n",
    "plt.plot(epochs, val_loss, 'r', label='Validation loss')\n",
    "plt.title('Training and validation loss')\n",
    "plt.legend()\n",
    "\n",
    "plt.show()"
   ]
  },
  {
   "cell_type": "code",
   "execution_count": 109,
   "metadata": {},
   "outputs": [],
   "source": [
    "tf.keras.models.save_model(model,\"./LAX_RNN_10lb.h5\", overwrite=True, include_optimizer=True)"
   ]
  },
  {
   "cell_type": "markdown",
   "metadata": {},
   "source": [
    "# Comparison - Random Forest (Old Model)"
   ]
  },
  {
   "cell_type": "code",
   "execution_count": 59,
   "metadata": {},
   "outputs": [
    {
     "name": "stdout",
     "output_type": "stream",
     "text": [
      "feature importances:  [3.65576273e-02 4.51570340e-02 2.38412126e-02 5.00804033e-02\n",
      " 6.68416631e-01 1.47657435e-01 2.25092293e-02 1.87440109e-03\n",
      " 2.23994276e-03 8.46681006e-04 8.11343508e-04 8.05867959e-06]\n",
      "[[60828  4086]\n",
      " [ 7377 12390]]\n",
      "accuracy score:  0.8646331526552592\n",
      "roc auc score:  0.7819287134342374\n",
      "19 s ± 0 ns per loop (mean ± std. dev. of 1 run, 1 loop each)\n"
     ]
    }
   ],
   "source": [
    "%%timeit -n 1 -r 1\n",
    "clf = RandomForestClassifier(n_estimators=50, max_depth=50, \n",
    "                             random_state=123)\n",
    "XRF_train, XRF_test, yRF_train, yRF_test = train_test_split(data.loc[:, data.columns != 'DEP_DEL15'], \n",
    "                                                            data['DEP_DEL15'], \n",
    "                                                            test_size=0.2, random_state=123)\n",
    "clf.fit(XRF_train, yRF_train)\n",
    "print(\"feature importances: \", clf.feature_importances_)\n",
    "yRF_pred = clf.predict(XRF_test)\n",
    "# print(classification_report(yRF_test, yRF_pred))\n",
    "print(confusion_matrix(yRF_test, yRF_pred))\n",
    "print(\"accuracy score: \", accuracy_score(yRF_test, yRF_pred))\n",
    "# print(\"matthews corr coef: \", matthews_corrcoef(yRF_test, yRF_pred))\n",
    "# print(\"zero one loss: \", zero_one_loss(yRF_test, yRF_pred))\n",
    "# print(\"balanced accuracy: \", balanced_accuracy_score(yRF_test, yRF_pred))\n",
    "print(\"roc auc score: \", roc_auc_score(yRF_test, yRF_pred))"
   ]
  }
 ],
 "metadata": {
  "kernelspec": {
   "display_name": "Python 3",
   "language": "python",
   "name": "python3"
  },
  "language_info": {
   "codemirror_mode": {
    "name": "ipython",
    "version": 3
   },
   "file_extension": ".py",
   "mimetype": "text/x-python",
   "name": "python",
   "nbconvert_exporter": "python",
   "pygments_lexer": "ipython3",
   "version": "3.6.5"
  }
 },
 "nbformat": 4,
 "nbformat_minor": 2
}
